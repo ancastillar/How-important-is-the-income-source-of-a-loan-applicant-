{
  "nbformat": 4,
  "nbformat_minor": 0,
  "metadata": {
    "colab": {
      "name": "Model_LOAN.ipynb",
      "provenance": [],
      "mount_file_id": "1Ssy4zIMxUyfqVgKeILzY7TfIUYeygnxE",
      "authorship_tag": "ABX9TyOVGQ5R5xmb3uPKpJCwnNiX",
      "include_colab_link": true
    },
    "kernelspec": {
      "name": "python3",
      "display_name": "Python 3"
    }
  },
  "cells": [
    {
      "cell_type": "markdown",
      "metadata": {
        "id": "view-in-github",
        "colab_type": "text"
      },
      "source": [
        "<a href=\"https://colab.research.google.com/github/ancastillar/Study-on-the-probability-of-payment-of-a-credit-requested-by-a-client/blob/main/Model_LOAN.ipynb\" target=\"_parent\"><img src=\"https://colab.research.google.com/assets/colab-badge.svg\" alt=\"Open In Colab\"/></a>"
      ]
    },
    {
      "cell_type": "code",
      "metadata": {
        "id": "7MBFrG55E_IE"
      },
      "source": [
        "# Cargar paquetes\n",
        "\n",
        "import matplotlib.pyplot as plt\n",
        "import numpy  as np\n",
        "import pandas as pd\n",
        "import seaborn as sns\n",
        "import statsmodels.api as sm\n",
        "import statsmodels.formula.api as sfm\n",
        "%matplotlib inline\n",
        "from matplotlib.widgets import Slider, Button, RadioButtons\n",
        "from scipy import interp\n",
        "from scipy.optimize import fsolve\n",
        "from scipy.stats import chi2_contingency, ttest_ind\n",
        "from sklearn.metrics import roc_curve, auc\n",
        "from sklearn.model_selection import StratifiedKFold\n",
        "from statsmodels.formula.api import ols\n",
        "import ipywidgets as widgets\n",
        "from ipywidgets import interact\n",
        "%matplotlib notebook\n",
        "from IPython.display import display_html\n",
        "plt.style.use('ggplot')"
      ],
      "execution_count": 47,
      "outputs": []
    },
    {
      "cell_type": "markdown",
      "metadata": {
        "id": "XYrVhcpzuogo"
      },
      "source": [
        "# LOGISTIC REGRESSION"
      ]
    },
    {
      "cell_type": "markdown",
      "metadata": {
        "id": "ZJACQFIM42om"
      },
      "source": [
        "In linear regression we were concerned with learning the coefficients of a polynomial to predict the response of a continuous variable $y_i$ on unseen data based on its independent variables $x_i$. However, a wide variety of problems, such as classification, are concerned with outcomestaking the form of discrete variables (i.e.  categories)"
      ]
    },
    {
      "cell_type": "markdown",
      "metadata": {
        "id": "8QqCDwK5ywe5"
      },
      "source": [
        "In Logistic regression, each set of features $\\mathbf{x}_i$ is associated with a category $C_i\\in\\{1,0\\}$, with $i=1\\ldots n$. It is helpful to re-define $\\mathbf{x}$ to be an extended vector $\\mathbf{x}\\rightarrow (1,\\mathbf{x})$. Then, the Likelihood function for Logistic regression is given by the sigmoid function\n",
        "\n",
        "$$\n",
        "P(c_i=1)=1-P(c_i=0)= {1 \\over 1+ e^{-\\mathbf{w}\\cdot \\mathbf{x}_i}},\n",
        "$$\n",
        "\n",
        "where $\\mathbf{w}$ are the weights that define the logistic regression. Notice that this is just the Fermi function with $\\beta E=-\\mathbf{w}\\cdot \\mathbf{x}$.\n",
        "\n",
        " We will maximize the Log-likelihood of the observed data. Let us define the function\n",
        "$$\n",
        "f(a)={1 \\over 1+ e^{-a}},\n",
        "$$\n",
        "Notice that the derivative with respect to $a$ is given by\n",
        "$$\n",
        "{df \\over da}= f(1-f).\n",
        "$$\n",
        "\n",
        "Define $f_i \\equiv f(\\mathbf{w}\\cdot \\mathbf{x}_i)$. Then, the Likelihood of the data $\\{ \\mathbf{x}_i, C_i \\}$ is given by\n",
        "$$\n",
        "P(Data|\\mathbf{x})= \\prod_{i=1}^n f_i^{C_i}(1-f_i)^{1-C_i}\n",
        "$$\n",
        "and the log-likelihood is given by\n",
        "$$\n",
        "\\log{P(Data|\\mathbf{w})}= \\sum_{i=1}^n C_i \\log f_i + (1-C_i)\\log(1-f_i)\n",
        "$$\n",
        "\n",
        "The negative of the log-likelihood gives us the cross-entropy error function\n",
        "$$\n",
        "\\mathrm{Cross\\,Entropy}=E(\\mathbf{w})= -\\sum_{i=1}^n C_i \\log f_i + (1-C_i)\\log(1-f_i).\n",
        "$$\n",
        "\n",
        "Using the formula above notice that\n",
        "$$\n",
        "\\nabla E(\\mathbf{w})=\\sum_{i=1}^n (f_i-C_i)\\mathbf{x}_i.\n",
        "$$\n",
        "In other words, the gradient points in the sum of training example directions weighted by the difference between the true label and the probability of predicting that label.\n",
        "\n",
        "\n",
        "\n",
        "##Finding the MLE Estimate ##\n",
        "\n",
        "Notice the Maximum-Likelihood Estimation (MLE) is the same as minimizing the cross-entropy. There is no closed form expression for this. One strategy is to start with an arbitrary $\\mathbf{w}$ and then update our estimate based on our error function. In particular, we would like to nudge $\\mathbf{w}$ in the direction where the error is decreasing the fastest. This is the idea behind gradient descent. Furthermore, we can show that the cross-entropy error function used in logistic regression has a unique minimum. Thus, we can perform this procedure with relative ease (However, as a word of caution, note there is a generic instability in the MLE procedure for linearly separable data).\n",
        "\n",
        "Theoretically, one nice method for doing this is the <i> Newton-Raphson </i> method. In this method, we iteratively calculate the gradient \n",
        "$$\n",
        "\\mathbf{w}^{new} \\leftarrow \\mathbf{w}^{old} - \\mathbf{H}^{-1} \\nabla E(\\mathbf{w}),\n",
        "$$\n",
        "where $\\mathbf{H}$ is the Hessian matrix which is the second derivative of the energy function.[1]\n",
        "\n"
      ]
    },
    {
      "cell_type": "markdown",
      "metadata": {
        "id": "oLyq4tmlFER-"
      },
      "source": [
        "Dataset"
      ]
    },
    {
      "cell_type": "code",
      "metadata": {
        "id": "Yx9FGmGVoBIC"
      },
      "source": [
        "df=pd.read_csv('/content/drive/MyDrive/data_davivienda/Lending_club.csv')\n",
        "#Transformation of variables\n",
        "\n",
        "#Change loan_status, verification_status, emp_length, term and grade to category type \n",
        "df.loan_status = df.loan_status.astype(pd.api.types.CategoricalDtype(categories=['Charged Off', 'Fully Paid']))\n",
        "df.verification_status = df.verification_status.astype(pd.api.types.CategoricalDtype(categories=['Not Verified', 'Source Verified', 'Verified']))\n",
        "df.emp_length = df.emp_length.astype(pd.api.types.CategoricalDtype(categories=['< 1 year', '1 year', '2 years', '3 years', '4 years', \\\n",
        "                                                             '5 years', '6 years', '7 years', '8 years', '9 years', \\\n",
        "                                                             '10+ years']))\n",
        "df.home_ownership = df.home_ownership.astype(pd.api.types.CategoricalDtype(categories=['RENT','MORTGAGE','OWN','OTHER']))\n",
        "df.term = df.term.astype(pd.api.types.CategoricalDtype(categories=[' 36 months', ' 60 months']))\n",
        "df.grade = df.grade.astype(pd.api.types.CategoricalDtype(categories=['A','B','C','D','E','F','G']))\n",
        "df.purpose = df.purpose.astype(pd.api.types.CategoricalDtype(categories=['debt_consolidation','credit_card','other','home_improvement','major_purchase','small_business','car', 'wedding','medical','moving','house','vacation','educational','renewable_energy']))\n",
        "\n",
        "#In addition, the original data in int_rate contains strings of the form 'x.xx%',\n",
        "#we remove the % and change the vaules to float:\n",
        "df.int_rate = df.int_rate.str.rstrip('%').astype('float')"
      ],
      "execution_count": 42,
      "outputs": []
    },
    {
      "cell_type": "code",
      "metadata": {
        "colab": {
          "base_uri": "https://localhost:8080/",
          "height": 308
        },
        "id": "AHB7lLg7FGzD",
        "outputId": "376a5ba2-6df6-41e0-c72f-11cf8c05a64d"
      },
      "source": [
        "df_log1 = pd.DataFrame(columns=['verification_status','loan_status'])\n",
        "df_log1['verification_status'] = df.verification_status.cat.codes\n",
        "df_log1['loan_status'] = df.loan_status.cat.codes\n",
        "df_log1['Intercept'] = 1\n",
        "\n",
        "logit = sm.Logit(df_log1['loan_status'], df_log1[['Intercept','verification_status']])\n",
        "logit_res = logit.fit()\n",
        "logit_res.summary()\n",
        "\n"
      ],
      "execution_count": 43,
      "outputs": [
        {
          "output_type": "stream",
          "text": [
            "Optimization terminated successfully.\n",
            "         Current function value: 0.405007\n",
            "         Iterations 6\n"
          ],
          "name": "stdout"
        },
        {
          "output_type": "execute_result",
          "data": {
            "text/html": [
              "<table class=\"simpletable\">\n",
              "<caption>Logit Regression Results</caption>\n",
              "<tr>\n",
              "  <th>Dep. Variable:</th>      <td>loan_status</td>   <th>  No. Observations:  </th>  <td> 38705</td>  \n",
              "</tr>\n",
              "<tr>\n",
              "  <th>Model:</th>                 <td>Logit</td>      <th>  Df Residuals:      </th>  <td> 38703</td>  \n",
              "</tr>\n",
              "<tr>\n",
              "  <th>Method:</th>                 <td>MLE</td>       <th>  Df Model:          </th>  <td>     1</td>  \n",
              "</tr>\n",
              "<tr>\n",
              "  <th>Date:</th>            <td>Wed, 25 Nov 2020</td> <th>  Pseudo R-squ.:     </th> <td>0.002350</td> \n",
              "</tr>\n",
              "<tr>\n",
              "  <th>Time:</th>                <td>21:36:14</td>     <th>  Log-Likelihood:    </th> <td> -15676.</td> \n",
              "</tr>\n",
              "<tr>\n",
              "  <th>converged:</th>             <td>True</td>       <th>  LL-Null:           </th> <td> -15713.</td> \n",
              "</tr>\n",
              "<tr>\n",
              "  <th>Covariance Type:</th>     <td>nonrobust</td>    <th>  LLR p-value:       </th> <td>8.419e-18</td>\n",
              "</tr>\n",
              "</table>\n",
              "<table class=\"simpletable\">\n",
              "<tr>\n",
              "           <td></td>              <th>coef</th>     <th>std err</th>      <th>z</th>      <th>P>|z|</th>  <th>[0.025</th>    <th>0.975]</th>  \n",
              "</tr>\n",
              "<tr>\n",
              "  <th>Intercept</th>           <td>    1.9469</td> <td>    0.022</td> <td>   88.290</td> <td> 0.000</td> <td>    1.904</td> <td>    1.990</td>\n",
              "</tr>\n",
              "<tr>\n",
              "  <th>verification_status</th> <td>   -0.1460</td> <td>    0.017</td> <td>   -8.600</td> <td> 0.000</td> <td>   -0.179</td> <td>   -0.113</td>\n",
              "</tr>\n",
              "</table>"
            ],
            "text/plain": [
              "<class 'statsmodels.iolib.summary.Summary'>\n",
              "\"\"\"\n",
              "                           Logit Regression Results                           \n",
              "==============================================================================\n",
              "Dep. Variable:            loan_status   No. Observations:                38705\n",
              "Model:                          Logit   Df Residuals:                    38703\n",
              "Method:                           MLE   Df Model:                            1\n",
              "Date:                Wed, 25 Nov 2020   Pseudo R-squ.:                0.002350\n",
              "Time:                        21:36:14   Log-Likelihood:                -15676.\n",
              "converged:                       True   LL-Null:                       -15713.\n",
              "Covariance Type:            nonrobust   LLR p-value:                 8.419e-18\n",
              "=======================================================================================\n",
              "                          coef    std err          z      P>|z|      [0.025      0.975]\n",
              "---------------------------------------------------------------------------------------\n",
              "Intercept               1.9469      0.022     88.290      0.000       1.904       1.990\n",
              "verification_status    -0.1460      0.017     -8.600      0.000      -0.179      -0.113\n",
              "=======================================================================================\n",
              "\"\"\""
            ]
          },
          "metadata": {
            "tags": []
          },
          "execution_count": 43
        }
      ]
    },
    {
      "cell_type": "markdown",
      "metadata": {
        "id": "IwUg4_uohe2Z"
      },
      "source": [
        "Now we are going to study the relationship between the variables: <code>loan_status</code>,<code>loan_amount</code> and <code>int_rate</code>. We are proceeding similar to before:"
      ]
    },
    {
      "cell_type": "code",
      "metadata": {
        "colab": {
          "base_uri": "https://localhost:8080/",
          "height": 330
        },
        "id": "90ZZF-jqFV1c",
        "outputId": "fde6ba26-4bd9-43b8-936e-74d209075f21"
      },
      "source": [
        "df6=df.copy()\n",
        "df6['loan_status'] = df6.loan_status.cat.codes\n",
        "df6['loan_amnt']=(df6['loan_amnt']-df6['loan_amnt'].mean())/df6['loan_amnt'].std()\n",
        "df6['int_rate']=(df6['int_rate']-df6['int_rate'].mean())/df6['int_rate'].std()\n",
        "df6['Intercept'] = 1\n",
        "\n",
        "logit2 = sm.Logit(df6['loan_status'], df6[['Intercept','loan_amnt','int_rate']])\n",
        "logit_res2 = logit2.fit()\n",
        "logit_res2.summary()"
      ],
      "execution_count": 44,
      "outputs": [
        {
          "output_type": "stream",
          "text": [
            "Optimization terminated successfully.\n",
            "         Current function value: 0.386118\n",
            "         Iterations 6\n"
          ],
          "name": "stdout"
        },
        {
          "output_type": "execute_result",
          "data": {
            "text/html": [
              "<table class=\"simpletable\">\n",
              "<caption>Logit Regression Results</caption>\n",
              "<tr>\n",
              "  <th>Dep. Variable:</th>      <td>loan_status</td>   <th>  No. Observations:  </th>  <td> 38705</td> \n",
              "</tr>\n",
              "<tr>\n",
              "  <th>Model:</th>                 <td>Logit</td>      <th>  Df Residuals:      </th>  <td> 38702</td> \n",
              "</tr>\n",
              "<tr>\n",
              "  <th>Method:</th>                 <td>MLE</td>       <th>  Df Model:          </th>  <td>     2</td> \n",
              "</tr>\n",
              "<tr>\n",
              "  <th>Date:</th>            <td>Wed, 25 Nov 2020</td> <th>  Pseudo R-squ.:     </th>  <td>0.04888</td>\n",
              "</tr>\n",
              "<tr>\n",
              "  <th>Time:</th>                <td>21:36:16</td>     <th>  Log-Likelihood:    </th> <td> -14945.</td>\n",
              "</tr>\n",
              "<tr>\n",
              "  <th>converged:</th>             <td>True</td>       <th>  LL-Null:           </th> <td> -15713.</td>\n",
              "</tr>\n",
              "<tr>\n",
              "  <th>Covariance Type:</th>     <td>nonrobust</td>    <th>  LLR p-value:       </th>  <td> 0.000</td> \n",
              "</tr>\n",
              "</table>\n",
              "<table class=\"simpletable\">\n",
              "<tr>\n",
              "      <td></td>         <th>coef</th>     <th>std err</th>      <th>z</th>      <th>P>|z|</th>  <th>[0.025</th>    <th>0.975]</th>  \n",
              "</tr>\n",
              "<tr>\n",
              "  <th>Intercept</th> <td>    1.9277</td> <td>    0.016</td> <td>  119.842</td> <td> 0.000</td> <td>    1.896</td> <td>    1.959</td>\n",
              "</tr>\n",
              "<tr>\n",
              "  <th>loan_amnt</th> <td>    0.0399</td> <td>    0.015</td> <td>    2.664</td> <td> 0.008</td> <td>    0.011</td> <td>    0.069</td>\n",
              "</tr>\n",
              "<tr>\n",
              "  <th>int_rate</th>  <td>   -0.5862</td> <td>    0.016</td> <td>  -36.901</td> <td> 0.000</td> <td>   -0.617</td> <td>   -0.555</td>\n",
              "</tr>\n",
              "</table>"
            ],
            "text/plain": [
              "<class 'statsmodels.iolib.summary.Summary'>\n",
              "\"\"\"\n",
              "                           Logit Regression Results                           \n",
              "==============================================================================\n",
              "Dep. Variable:            loan_status   No. Observations:                38705\n",
              "Model:                          Logit   Df Residuals:                    38702\n",
              "Method:                           MLE   Df Model:                            2\n",
              "Date:                Wed, 25 Nov 2020   Pseudo R-squ.:                 0.04888\n",
              "Time:                        21:36:16   Log-Likelihood:                -14945.\n",
              "converged:                       True   LL-Null:                       -15713.\n",
              "Covariance Type:            nonrobust   LLR p-value:                     0.000\n",
              "==============================================================================\n",
              "                 coef    std err          z      P>|z|      [0.025      0.975]\n",
              "------------------------------------------------------------------------------\n",
              "Intercept      1.9277      0.016    119.842      0.000       1.896       1.959\n",
              "loan_amnt      0.0399      0.015      2.664      0.008       0.011       0.069\n",
              "int_rate      -0.5862      0.016    -36.901      0.000      -0.617      -0.555\n",
              "==============================================================================\n",
              "\"\"\""
            ]
          },
          "metadata": {
            "tags": []
          },
          "execution_count": 44
        }
      ]
    },
    {
      "cell_type": "markdown",
      "metadata": {
        "id": "HpaDszDwUlij"
      },
      "source": [
        "<h3>The Receiver Operating Characteristic (ROC) curve</h3>\n",
        "<p>We have seen the great potential in considering the TPR and TNR to help select the appropriate threshold for our models. However, it does not makes much sense to compute these for single cut-off values. We ought to summarize the prediction accuracy across all different cut-off values to produce a unified evalution of our model. This is the motivation for the <strong>receiver operating characteristic (ROC) curve</strong>.</p>\n",
        "<p>The ROC curve plots 1 - TNR against TPR and illustrates the behavior of a logistic model as the cut-off point changes.</p>"
      ]
    },
    {
      "cell_type": "code",
      "metadata": {
        "colab": {
          "base_uri": "https://localhost:8080/",
          "height": 299
        },
        "id": "CHwuH77hUlL3",
        "outputId": "cea82a93-a6f1-4b15-e310-424b715cd2c0"
      },
      "source": [
        "%matplotlib inline\n",
        "def rates(p):\n",
        "    a= df6.loan_status\n",
        "    b=(b_Intercept+b_loan_amnt*df6['loan_amnt']+b_int_rate*df6['int_rate']>np.log(p/(1-p))).astype('int')\n",
        "    \n",
        "    TPR=(a & b).sum(axis=0)/a.sum(axis=0)\n",
        "    TNR=(1-a & 1-b).sum(axis=0)/(1-a).sum(axis=0)\n",
        "    return [TPR,TNR]\n",
        "\n",
        "#Luego, usamos esta función para trazar la curva ROC\n",
        "x=[]\n",
        "y=[]\n",
        "for p in np.arange(0.01,0.99,0.01):\n",
        "    z=rates(p)\n",
        "    y.append(z[0])\n",
        "    x.append(1-z[1])\n",
        "    \n",
        "fig, ax = plt.subplots()\n",
        "\n",
        "ax.plot(x,y, label=f'ROC curve for model in Ex6')\n",
        "ax.plot([0, 1], [0, 1], color='navy', lw=1, linestyle='--', label='Random guess')\n",
        "plt.xlabel('False Positive Rate')\n",
        "plt.ylabel('True Positive Rate')\n",
        "plt.title('Classification of Defaulters')\n",
        "plt.legend(loc='lower right');"
      ],
      "execution_count": 49,
      "outputs": [
        {
          "output_type": "display_data",
          "data": {
            "image/png": "[encoded data removed]",
            "text/plain": [
              "<Figure size 432x288 with 1 Axes>"
            ]
          },
          "metadata": {
            "tags": [],
            "needs_background": "light"
          }
        }
      ]
    },
    {
      "cell_type": "code",
      "metadata": {
        "colab": {
          "base_uri": "https://localhost:8080/",
          "height": 299
        },
        "id": "8ZR-5TboYQMp",
        "outputId": "9e502fd2-1669-4ed6-90ec-b6745e6216aa"
      },
      "source": [
        "%matplotlib inline\n",
        "predict_p = logit_res.predict(df_log1[['Intercept','verification_status']])\n",
        "predict_2_p = logit_res2.predict(df6[['Intercept','loan_amnt','int_rate']])\n",
        "roc_p = roc_curve(df_log1['loan_status'], predict_p)\n",
        "roc_2_p = roc_curve(df6['loan_status'], predict_2_p)\n",
        "\n",
        "plt.figure()\n",
        "line_width = 2\n",
        "plt.plot(roc_p[0], roc_p[1], color='darkorange',\n",
        "         lw=line_width, label=f'ROC Curve para logit_res with v_status')\n",
        "plt.plot(roc_2_p[0], roc_2_p[1], color='darkgreen',\n",
        "         lw=line_width, label=f'ROC Curve for model with two features')\n",
        "plt.plot([0, 1], [0, 1], color='navy', lw=line_width, linestyle='--', label='Random')\n",
        "plt.xlim([0.0, 1.0])\n",
        "plt.ylim([0.0, 1.05])\n",
        "plt.xlabel('FP Rate')\n",
        "plt.ylabel('TP Rate')\n",
        "plt.title('Classification of customers')\n",
        "plt.legend(loc='lower right')\n",
        "plt.show()"
      ],
      "execution_count": 57,
      "outputs": [
        {
          "output_type": "display_data",
          "data": {
            "image/png": "[encoded data removed]",
            "text/plain": [
              "<Figure size 432x288 with 1 Axes>"
            ]
          },
          "metadata": {
            "tags": [],
            "needs_background": "light"
          }
        }
      ]
    },
    {
      "cell_type": "markdown",
      "metadata": {
        "id": "NdHwk1kq7afM"
      },
      "source": [
        "#Evaluation of classification models (Theory)"
      ]
    },
    {
      "cell_type": "markdown",
      "metadata": {
        "id": "wuXMe7pl825o"
      },
      "source": [
        "##Confusion Matrix##\n",
        "The general idea is to count the number of times instances of class A are classified as class B. To compute the confusion  matrix, you first need to have a set of predictions so that they  can  be  compared  to  the  actual  targets. You could make predictions on  the  test set,  but  let's  keep  it  untouched  for  now  (remember  that  you  want  to  use  the  test  set only  at  the  very  end  of  your  project,  once  you  have  a  classifier  that  you  are  ready  to launch). Instead, you can use the cross_val_predict() function:\n"
      ]
    },
    {
      "cell_type": "code",
      "metadata": {
        "id": "63Ns64GV7lev"
      },
      "source": [
        ""
      ],
      "execution_count": null,
      "outputs": []
    },
    {
      "cell_type": "code",
      "metadata": {
        "id": "0VrEtKgL7lWv"
      },
      "source": [
        ""
      ],
      "execution_count": null,
      "outputs": []
    },
    {
      "cell_type": "markdown",
      "metadata": {
        "id": "a_84DdM90iPs"
      },
      "source": [
        "#REFERENCES:\n",
        "\n",
        "[1] Pankaj Mehta, Ching-Hao Wang, Alexandre G. R. Day, and Clint Richardson,  *A high-bias, low-variance introduction to Machine Learning for physicists*. 27 May 2019.  https://arxiv.org/pdf/1803.08823.pdf"
      ]
    },
    {
      "cell_type": "code",
      "metadata": {
        "id": "YhQOYaTDi93e"
      },
      "source": [
        ""
      ],
      "execution_count": null,
      "outputs": []
    }
  ]
}