{
  "nbformat": 4,
  "nbformat_minor": 0,
  "metadata": {
    "colab": {
      "name": "Model_LOAN.ipynb",
      "provenance": [],
      "mount_file_id": "1Ssy4zIMxUyfqVgKeILzY7TfIUYeygnxE",
      "authorship_tag": "ABX9TyPQnUfLj9OlgexNroHQW3aE",
      "include_colab_link": true
    },
    "kernelspec": {
      "name": "python3",
      "display_name": "Python 3"
    }
  },
  "cells": [
    {
      "cell_type": "markdown",
      "metadata": {
        "id": "view-in-github",
        "colab_type": "text"
      },
      "source": [
        "<a href=\"https://colab.research.google.com/github/ancastillar/Study-on-the-probability-of-payment-of-a-credit-requested-by-a-client/blob/main/Model_LOAN.ipynb\" target=\"_parent\"><img src=\"https://colab.research.google.com/assets/colab-badge.svg\" alt=\"Open In Colab\"/></a>"
      ]
    },
    {
      "cell_type": "markdown",
      "metadata": {
        "id": "XYrVhcpzuogo"
      },
      "source": [
        "# LOGISTIC REGRESSION"
      ]
    },
    {
      "cell_type": "markdown",
      "metadata": {
        "id": "ZJACQFIM42om"
      },
      "source": [
        "So far we have focused on learning from datasets forwhich there is a “continuous” output.  For example, inlinear regression we were concerned with learning the co-efficients of a polynomial to predict the response of acontinuous variableyion unseen data based on its inde-pendent variablesxi. However, a wide variety of prob-lems, such as classification, are concerned with outcomestaking the form of discrete variables (i.e.  categories)"
      ]
    },
    {
      "cell_type": "code",
      "metadata": {
        "id": "Yx9FGmGVoBIC"
      },
      "source": [
        ""
      ],
      "execution_count": null,
      "outputs": []
    }
  ]
}