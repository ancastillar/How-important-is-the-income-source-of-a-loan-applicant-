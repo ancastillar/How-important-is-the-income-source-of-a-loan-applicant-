{
  "nbformat": 4,
  "nbformat_minor": 0,
  "metadata": {
    "colab": {
      "name": "Model_LOAN_NOLINEAR.ipynb",
      "provenance": [],
      "mount_file_id": "1iCJCbPYucJvHSObIDkqGrXer3ZuI2xgp",
      "authorship_tag": "ABX9TyM+zZlcbKaEKxHAIhMnRfJM",
      "include_colab_link": true
    },
    "kernelspec": {
      "name": "python3",
      "display_name": "Python 3"
    }
  },
  "cells": [
    {
      "cell_type": "markdown",
      "metadata": {
        "id": "view-in-github",
        "colab_type": "text"
      },
      "source": [
        "<a href=\"https://colab.research.google.com/github/ancastillar/Study-on-the-probability-of-payment-of-a-credit-requested-by-a-customer/blob/main/Model_LOAN_NOLINEAR.ipynb\" target=\"_parent\"><img src=\"https://colab.research.google.com/assets/colab-badge.svg\" alt=\"Open In Colab\"/></a>"
      ]
    },
    {
      "cell_type": "code",
      "metadata": {
        "id": "MR7oGMHBABuI"
      },
      "source": [
        "import pandas as pd\n",
        "import pydotplus\n",
        "import numpy  as np\n",
        "import matplotlib.pyplot as plt\n",
        "import seaborn as sns\n",
        "import statsmodels.api as sm\n",
        "\n",
        "from io import StringIO\n",
        "from IPython.display import Image, SVG\n",
        "from graphviz import Source\n",
        "from matplotlib import cm\n",
        "from matplotlib.colors import ListedColormap, LinearSegmentedColormap\n",
        "from matplotlib.patches import Patch\n",
        "from scipy.stats import chi2_contingency, norm\n",
        "from sklearn.tree import export_graphviz\n",
        "from sklearn.metrics import roc_curve, auc, accuracy_score\n",
        "from sklearn.model_selection import StratifiedKFold, train_test_split\n",
        "from statsmodels.formula.api import ols\n",
        "from sympy import var, plot_implicit, Eq\n",
        "\n",
        "# ignore log(0) and divide by 0 warning\n",
        "np.seterr(divide='ignore');"
      ],
      "execution_count": 10,
      "outputs": []
    },
    {
      "cell_type": "code",
      "metadata": {
        "id": "-8hx1XECB_Ep"
      },
      "source": [
        "df = pd.read_csv('/content/drive/MyDrive/data_davivienda/Lending_club.csv',\n",
        "                 dtype = {'loan_status':'category', 'annual_inc':'float',\n",
        "                          'verification_status':'category', 'emp_length':'category',\n",
        "                          'home_ownership':'category', 'int_rate':'object',\n",
        "                          'loan_amnt':'float', 'purpose':'category',\n",
        "                          'term':'category', 'grade':'category'})\n",
        "df['int_rate'] = df['int_rate'].str.rstrip('%').astype('float')"
      ],
      "execution_count": 2,
      "outputs": []
    },
    {
      "cell_type": "code",
      "metadata": {
        "colab": {
          "base_uri": "https://localhost:8080/",
          "height": 206
        },
        "id": "L6GGKB21Eo6e",
        "outputId": "65992624-0260-419a-c34b-ede0b5740f74"
      },
      "source": [
        "df.head()"
      ],
      "execution_count": 3,
      "outputs": [
        {
          "output_type": "execute_result",
          "data": {
            "text/html": [
              "<div>\n",
              "<style scoped>\n",
              "    .dataframe tbody tr th:only-of-type {\n",
              "        vertical-align: middle;\n",
              "    }\n",
              "\n",
              "    .dataframe tbody tr th {\n",
              "        vertical-align: top;\n",
              "    }\n",
              "\n",
              "    .dataframe thead th {\n",
              "        text-align: right;\n",
              "    }\n",
              "</style>\n",
              "<table border=\"1\" class=\"dataframe\">\n",
              "  <thead>\n",
              "    <tr style=\"text-align: right;\">\n",
              "      <th></th>\n",
              "      <th>loan_status</th>\n",
              "      <th>annual_inc</th>\n",
              "      <th>verification_status</th>\n",
              "      <th>emp_length</th>\n",
              "      <th>home_ownership</th>\n",
              "      <th>int_rate</th>\n",
              "      <th>loan_amnt</th>\n",
              "      <th>purpose</th>\n",
              "      <th>term</th>\n",
              "      <th>grade</th>\n",
              "    </tr>\n",
              "  </thead>\n",
              "  <tbody>\n",
              "    <tr>\n",
              "      <th>0</th>\n",
              "      <td>Fully Paid</td>\n",
              "      <td>24000.0</td>\n",
              "      <td>Verified</td>\n",
              "      <td>10+ years</td>\n",
              "      <td>RENT</td>\n",
              "      <td>10.65</td>\n",
              "      <td>5000.0</td>\n",
              "      <td>credit_card</td>\n",
              "      <td>36 months</td>\n",
              "      <td>B</td>\n",
              "    </tr>\n",
              "    <tr>\n",
              "      <th>1</th>\n",
              "      <td>Charged Off</td>\n",
              "      <td>30000.0</td>\n",
              "      <td>Source Verified</td>\n",
              "      <td>&lt; 1 year</td>\n",
              "      <td>RENT</td>\n",
              "      <td>15.27</td>\n",
              "      <td>2500.0</td>\n",
              "      <td>car</td>\n",
              "      <td>60 months</td>\n",
              "      <td>C</td>\n",
              "    </tr>\n",
              "    <tr>\n",
              "      <th>2</th>\n",
              "      <td>Fully Paid</td>\n",
              "      <td>12252.0</td>\n",
              "      <td>Not Verified</td>\n",
              "      <td>10+ years</td>\n",
              "      <td>RENT</td>\n",
              "      <td>15.96</td>\n",
              "      <td>2400.0</td>\n",
              "      <td>small_business</td>\n",
              "      <td>36 months</td>\n",
              "      <td>C</td>\n",
              "    </tr>\n",
              "    <tr>\n",
              "      <th>3</th>\n",
              "      <td>Fully Paid</td>\n",
              "      <td>49200.0</td>\n",
              "      <td>Source Verified</td>\n",
              "      <td>10+ years</td>\n",
              "      <td>RENT</td>\n",
              "      <td>13.49</td>\n",
              "      <td>10000.0</td>\n",
              "      <td>other</td>\n",
              "      <td>36 months</td>\n",
              "      <td>C</td>\n",
              "    </tr>\n",
              "    <tr>\n",
              "      <th>4</th>\n",
              "      <td>Fully Paid</td>\n",
              "      <td>80000.0</td>\n",
              "      <td>Source Verified</td>\n",
              "      <td>1 year</td>\n",
              "      <td>RENT</td>\n",
              "      <td>12.69</td>\n",
              "      <td>3000.0</td>\n",
              "      <td>other</td>\n",
              "      <td>60 months</td>\n",
              "      <td>B</td>\n",
              "    </tr>\n",
              "  </tbody>\n",
              "</table>\n",
              "</div>"
            ],
            "text/plain": [
              "   loan_status  annual_inc  ...        term grade\n",
              "0   Fully Paid     24000.0  ...   36 months     B\n",
              "1  Charged Off     30000.0  ...   60 months     C\n",
              "2   Fully Paid     12252.0  ...   36 months     C\n",
              "3   Fully Paid     49200.0  ...   36 months     C\n",
              "4   Fully Paid     80000.0  ...   60 months     B\n",
              "\n",
              "[5 rows x 10 columns]"
            ]
          },
          "metadata": {
            "tags": []
          },
          "execution_count": 3
        }
      ]
    },
    {
      "cell_type": "markdown",
      "metadata": {
        "id": "dYccRJIaRw-k"
      },
      "source": [
        "##Disadvantages of logistic regression##\n",
        "Although logistic regression is one of the most commonly used classification algorithms, it is not the only one. If the underlying relationship between the logit of odds and the covariates is not linear, we need to consider higher order terms of the covariates to make the logistic model valid. Doing so requires a lot of tuning and experimenting. In such cases, it is often better to look at a classification algorithm that does not rely on a specific assumption about the relationship between the probability of the outcome and the covariates. Therefore we are going to introduce some of the most popular models"
      ]
    },
    {
      "cell_type": "markdown",
      "metadata": {
        "id": "VLcwj4ePisEn"
      },
      "source": [
        "**Bayes Theorem**\n",
        "\n",
        "\n",
        "To solve a problem using Bayesian methods, we have to specify two functions: the likelihood function p(X|θ),which describes the probability of observing a dataset X for a given value of the unknown parameters θ, and the prior distribution p(θ), which describes any knowledge we have about the parameters before we collect the data. Note that the likelihood should be considered as a function of the parameters θ with the data X held fixed. The prior distribution and the likelihood functionare used to compute the posterior distribution p(θ|X) via Bayes’ rule:\n",
        ">  p($\\theta$|X)=$\\frac{p(X|\\theta) \\ p(\\theta)}{\\int d\\theta'\\ p(X|\\theta')\\ p(\\theta')}$\n",
        "\n",
        "In many cases, it will not be possible to analytically compute the normalizing constant in the denominator ofthe posterior distribution, p(X) =∫dθp(X|θ)p(θ),and Markov Chain Monte Carlo (MCMC) methods are needed to draw random samples from p(θ|X).[1]\n",
        "\n",
        "**Deduction of Bayes Theorem**\n",
        "\n",
        "Let B be an event whose chance of occurrence must be measured under the assumption that an event A has been observed. If the experiment is repeated, under the same conditions, n times then the relative frequency of B under condition A is defined as follows: \n",
        "\n",
        "> $fr(B|A)=\\frac{n(A\\cap B))}{n(A)}; if\\quad n(A)>0$\n",
        "\n",
        "where n(A∩B) is the number of success cases to A∩B. When the experiment is performed a large enough number of times, we have:\n",
        "\n",
        "> $fr(B|A)=\\frac{\\frac{n(A\\cap B)}{n}}{\\frac{n(A)}{n}}; if\\quad n(A)>0$\n",
        "\n",
        "If n$\\rightarrow \\ \\infty$, the last equation becomes:\n",
        "\n",
        ">  $P(B|A)= \\frac{P(A\\cap B)}{P(A)}$\n",
        "\n",
        "From the last equation we can define the independency (other important concept)of two events as follows:\n",
        "\n",
        "> $P(A \\cap B)= P(A)P(B)$\n",
        "\n",
        "\n",
        "Recalling the following definitions we can get two important results:\n",
        "\n",
        "> **sample space**: $\\Omega=\\{ \\omega_n \\}\\quad n \\in (0, \\infty)$ $\\quad$where $\\omega_i\\cap\\omega_j=\\phi$: \n",
        "\n",
        "\n",
        "**Total probability rule**\n",
        "\n",
        "$P(B)= P(B\\cap \\Omega)$ = $P(\\cup_n(B \\cap \\omega_n )$ = $\\sum_n P(B\\cap \\omega_n)$ = $\\sum_n P(B|\\omega_n)P(\\omega_n)$ \n",
        "\n",
        "from the last rule we get the next corollary:\n",
        "\n",
        "Corollary:  Be it $\\omega_1, \\omega_2...$ a finite sample of $\\Omega$ with P(A_i)> 0 for all $i$ we have:\n",
        "\n",
        "> $P(\\omega_i| B)=\\frac{P(\\omega_i) P(B|\\omega_i)}{\\sum_j P(B|\\omega_j) P(\\omega_j)} $\n",
        "\n",
        "\n",
        "> Proof:\n",
        "\n",
        "> $P(\\omega_i|B)=\\frac{P(\\omega_i \\cap B)}{P(B)}= \\frac{P(\\omega_i)P(B|\\omega_i)}{P(B)}= \\frac{P(\\omega_i)P(B|\\omega_i)}{\\sum_j P(B|\\omega_j)P(\\omega_j)} $  \n",
        "\n",
        "\n",
        "if $j\\ \\rightarrow \\ \\infty$ then:\n",
        "\n",
        "> p($\\omega$|X)=$\\frac{p(X|\\omega) \\ p(\\omega)}{\\int d\\omega'\\ p(X|\\omega')\\ p(\\omega')}$ \n",
        "\n",
        "The last equation is the continuous version of Bayes rule[2]"
      ]
    },
    {
      "cell_type": "markdown",
      "metadata": {
        "id": "BrKCFMfBI6XU"
      },
      "source": [
        "##Naive Bayes Clasiffier##"
      ]
    },
    {
      "cell_type": "markdown",
      "metadata": {
        "id": "LOUKUlOgJUhm"
      },
      "source": [
        "This algorithm is based on Bayes' theorem, which is a conditional probability theorem (see previous section). The principal idea for this project is:\n",
        "\n",
        "> Given a client with certain characteristics, we will use Bayes' theorem and the observed data to estimate the probability that defaulters and non-defaulters have the same characteristics as the client. The larger of these two probabilities would then determine how we classify the client."
      ]
    },
    {
      "cell_type": "markdown",
      "metadata": {
        "id": "1bA2m1ScVITS"
      },
      "source": [
        "Let's go to determine whether $\\text{P(defaulter|income verified)}$ is larger than $\\text{P(non-defaulter| income verified)}$ using Bayes' theorem:\n",
        "\n",
        "\n",
        ">  $\\text{P(defaulter|income verified)}=\\frac{\\text{P(income verified|defaulter)}\\ \\text{P(defaulter)}}{\\text{P(income verified)}}$ ; $\\text{P(non-defaulter|income verified)}=\\frac{\\text{P(income verified|non-defaulter)} \\ \\text{P(non-defaulter)}}{\\text{P(income verified)}}$\n",
        "\n",
        "\n",
        "In order to get the answer we need to do an assumption and verify if this is true or not:\n",
        "\n",
        "\n",
        ">  $\\text{P(defaulter|income verified)} \\ \\text{P(defaulter)}$< $\\text{P(non defaulter|income verified)}\\ \\text{P(non-defaulter)}\\quad (1)$\n",
        "\n",
        "\n"
      ]
    },
    {
      "cell_type": "markdown",
      "metadata": {
        "id": "ce6UyeNaYAz0"
      },
      "source": [
        "First we are going to calculate the probability $\\text{P(defaulter)}$ and $\\text{P(non-defaulter)}$:"
      ]
    },
    {
      "cell_type": "code",
      "metadata": {
        "colab": {
          "base_uri": "https://localhost:8080/"
        },
        "id": "1H7-Zm00iuaN",
        "outputId": "bce66bf0-0a28-44c9-99af-7a6bba353fb3"
      },
      "source": [
        "p_def=df[df['loan_status']=='Charged Off']['loan_status'].count()/df['loan_status'].count()\n",
        "print('P(defaulter)={:.3f} \\nP(non-defaulter)={:.3f}'.format(p_def, 1-p_def))"
      ],
      "execution_count": 4,
      "outputs": [
        {
          "output_type": "stream",
          "text": [
            "P(defaulter)=0.141 \n",
            "P(non-defaulter)=0.859\n"
          ],
          "name": "stdout"
        }
      ]
    },
    {
      "cell_type": "markdown",
      "metadata": {
        "id": "U2OGQz74YUGx"
      },
      "source": [
        "Now we are goingt to calculate the probability $\\text{P(income verified| defaulter)}$ and $\\text{P(income verified| non-defaulter)}$:"
      ]
    },
    {
      "cell_type": "code",
      "metadata": {
        "colab": {
          "base_uri": "https://localhost:8080/"
        },
        "id": "dY2aAQmXEt5H",
        "outputId": "203ea725-979d-4810-d48f-9886820d273f"
      },
      "source": [
        "p_id=df[(df['loan_status']=='Charged Off') & (df['verification_status']=='Verified')]['loan_status'].count()/df[df['loan_status']=='Charged Off']['loan_status'].count()\n",
        "p_ind=df[(df['loan_status']=='Fully Paid') & (df['verification_status']=='Verified')]['loan_status'].count()/df[df['loan_status']=='Fully Paid']['loan_status'].count()\n",
        "print('P(income verified given defaulter)={:.3f} \\nP(income verified given non-defaulter)={:.3f}'.format(p_id, p_ind))"
      ],
      "execution_count": 5,
      "outputs": [
        {
          "output_type": "stream",
          "text": [
            "P(income verified given defaulter)=0.363 \n",
            "P(income verified given non-defaulter)=0.313\n"
          ],
          "name": "stdout"
        }
      ]
    },
    {
      "cell_type": "markdown",
      "metadata": {
        "id": "7mu9334xajpY"
      },
      "source": [
        "We can evaluate the equation (1)"
      ]
    },
    {
      "cell_type": "code",
      "metadata": {
        "colab": {
          "base_uri": "https://localhost:8080/"
        },
        "id": "4HxFVzPFYjb_",
        "outputId": "b40514cd-f8fd-4d37-cd17-0719a77247bb"
      },
      "source": [
        "p_def_iv=p_id*p_def\n",
        "p_ndef_iv=p_ind*(1-p_def)\n",
        "print('P(defaulter|income verified)  is proportional to {:.3f}  \\\n",
        "\\nP(non-defaulter|income verified) is proportional to {:.3f}'.format(p_def_iv, p_ndef_iv))"
      ],
      "execution_count": 7,
      "outputs": [
        {
          "output_type": "stream",
          "text": [
            "P(defaulter|income verified)  is proportional to 0.051  \n",
            "P(non-defaulter|income verified) is proportional to 0.269\n"
          ],
          "name": "stdout"
        }
      ]
    },
    {
      "cell_type": "markdown",
      "metadata": {
        "id": "WD9GG98napj3"
      },
      "source": [
        " If we only have information about the income verification status of our clients, we would probably give loans to those clients whose income has been verified. What happens if the client is either `Source Verified` or `Not Verified`? We can repeat the same procedure:"
      ]
    },
    {
      "cell_type": "code",
      "metadata": {
        "colab": {
          "base_uri": "https://localhost:8080/"
        },
        "id": "1xTiO16gZQid",
        "outputId": "b788cbcc-394a-4ee4-af38-c38e491c9381"
      },
      "source": [
        "p_id2=df[(df['loan_status']=='Charged Off') & (df['verification_status']=='Source Verified')]['loan_status'].count()/df[df['loan_status']=='Charged Off']['loan_status'].count()\n",
        "p_ind2=df[(df['loan_status']=='Fully Paid') & (df['verification_status']=='Source Verified')]['loan_status'].count()/df[df['loan_status']=='Fully Paid']['loan_status'].count()\n",
        "\n",
        "p_def_iv2=p_id2*p_def\n",
        "p_ndef_iv2=p_ind2*(1-p_def)\n",
        "print('P(defaulter|income source verified)  is proportional to {:.3f}  \\\n",
        "\\nP(non-defaulter|income source verified) is proportional to {:.3f}'.format(p_def_iv2, p_ndef_iv2))"
      ],
      "execution_count": 8,
      "outputs": [
        {
          "output_type": "stream",
          "text": [
            "P(defaulter|income source verified)  is proportional to 0.037  \n",
            "P(non-defaulter|income source verified) is proportional to 0.217\n"
          ],
          "name": "stdout"
        }
      ]
    },
    {
      "cell_type": "code",
      "metadata": {
        "colab": {
          "base_uri": "https://localhost:8080/"
        },
        "id": "7mY_LYgja4bJ",
        "outputId": "21f0a08d-d634-4a5f-bea7-fa085ea34d22"
      },
      "source": [
        "p_id3=df[(df['loan_status']=='Charged Off') & (df['verification_status']=='Not Verified')]['loan_status'].count()/df[df['loan_status']=='Charged Off']['loan_status'].count()\n",
        "p_ind3=df[(df['loan_status']=='Fully Paid') & (df['verification_status']=='Not Verified')]['loan_status'].count()/df[df['loan_status']=='Fully Paid']['loan_status'].count()\n",
        "\n",
        "p_def_iv3=p_id3*p_def\n",
        "p_ndef_iv3=p_ind3*(1-p_def)\n",
        "print('P(defaulter|income not verified)  is proportional to {:.3f}  \\\n",
        "\\nP(non-defaulter| income not verified) is proportional to {:.3f}'.format(p_def_iv3, p_ndef_iv3))"
      ],
      "execution_count": 9,
      "outputs": [
        {
          "output_type": "stream",
          "text": [
            "P(defaulter|income not verified)  is proportional to 0.053  \n",
            "P(non-defaulter| income not verified) is proportional to 0.373\n"
          ],
          "name": "stdout"
        }
      ]
    },
    {
      "cell_type": "markdown",
      "metadata": {
        "id": "jRwKVlJfbJ0H"
      },
      "source": [
        "The conditional probabilities of being a non-defaulter are always bigger than those for being a defaulter, remenber that in the notebook of logistic regression we find a Simsonp paradox for the `verified_status` and `loan_status`"
      ]
    },
    {
      "cell_type": "markdown",
      "metadata": {
        "id": "0QwViLLbdMin"
      },
      "source": [
        "##The algorithm and assumptions##\n",
        "\n",
        "There are two possible routes that we can follow to create a classification algorithm from Bayes' theorem.\n",
        "\n",
        "#### Probabilistic Model\n",
        "\n",
        "Recall that in logistic regression, the main quantity of interest is the probability of no default (remember that our encoding was 1 for non-defaulters and 0 for defaulters) given specific values for the covariates. We explicitly modeled this probability as a linear function of covariates after transformation by the logit function. \n",
        "\n",
        "The Naive Bayes classifier aims to estimate this probability from a different perspective. From Bayes' theorem, we can express this conditional probability in the following way:\n",
        "\n",
        "$$\n",
        "\\begin{equation}\\tag{*}\n",
        "\\text{P(non-defaulter|covariates=values)} = \\frac{\\text{P(covariates=values| non-defaulter)P(defaulter)}}{\\text{P(covariates=values)}}.\n",
        "\\end{equation}\n",
        "$$\n",
        "\n",
        "**Then, we create our classifier as in the logistic model by selecting a threshold $t$ and classify a client with given covariates values as a defaulter if:**\n",
        "\n",
        "$$\n",
        "\\text{P(non-defaulter|covariates=values)}>t.\n",
        "$$\n",
        "\n",
        "#### Maximum A Posteriori Model (MAP)\n",
        "\n",
        "For this classifier, a client with given covariates values is classified as a non-defaulter if:\n",
        "\n",
        "$$\n",
        "\\text{P(non-defaulter|covariates=values)}>\\text{P(defaulter|covariates=values)}\n",
        "$$\n",
        "\n",
        "which is equivalent to:\n",
        "\n",
        "$$\n",
        "\\begin{equation}\\tag{**}\n",
        "\\text{P(covariates=values|non-defaulter)P(non-defaulter)}>\\text{P(covariates=values|defaulter)P(defaulter)}\n",
        "\\end{equation}\n",
        "$$\n",
        "**Note: This assumption is the same of the equation (1)**\n",
        "\n",
        "Let's take a look at each of these quantities:\n",
        "\n",
        "1. $\\text{P(defaulter)}$ and $\\text{P(non-defaulter)}$. These are the probabilities of having a defaulter and a non-defaulter. These can be easily estimated using the proportion of defaulters in the dataset.\n",
        "2. $\\text{P(covariates=values)}$. This is the probability of having a customer whose covariates are equal to $\\text{values}$. This can also be estimated by proportions, but we will actually find out that it is not necessary to estimate this quantity at all (more on this later).\n",
        "3. $\\text{P(covariates=values| non-defaulter)}$ and $\\text{P(covariates=values| defaulter)}$. We can estimate these by looking at the proportion of defaulters and non-defaulters with covariates equal to $\\text{values}$. But if we have a lot of covariates, the number of such defaulters might be extremely small or even equal to zero. The main challenge in building a Naive Bayes classifier is estimating these particular probabilities.\n",
        "\n",
        "Indeed, when the number of covariates is large, it is hard to estimate $\\text{P(covariates=values given non-defaulter)}$ by proportions directly. For instance, suppose that we have 10 covariates and that all of them are binary variables. Then, the total number of possible values these covariates can take is equal to $2^{10}=1024$. Thus, in order to estimate $\\text{P(covariates=values given non-defaulter)}$ we would need at least $1024$ samples! If we want to go even further, suppose we want to classify texts having most 82 words, where each word in the text has 10 possible alternatives. The number of samples we would need will be larger than the number of atoms in the universe!\n",
        "\n",
        "##Assumption of Naive##\n",
        "\n",
        "All al"
      ]
    },
    {
      "cell_type": "code",
      "metadata": {
        "id": "Am8x9OX5bJey"
      },
      "source": [
        ""
      ],
      "execution_count": null,
      "outputs": []
    },
    {
      "cell_type": "code",
      "metadata": {
        "id": "7Q4KXJQUbARK"
      },
      "source": [
        ""
      ],
      "execution_count": null,
      "outputs": []
    }
  ]
}