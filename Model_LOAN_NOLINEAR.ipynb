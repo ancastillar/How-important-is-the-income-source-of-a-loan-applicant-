{
  "nbformat": 4,
  "nbformat_minor": 0,
  "metadata": {
    "colab": {
      "name": "Model_LOAN_NOLINEAR.ipynb",
      "provenance": [],
      "mount_file_id": "1iCJCbPYucJvHSObIDkqGrXer3ZuI2xgp",
      "authorship_tag": "ABX9TyNwXp7ThOLajOCggby7qE1o",
      "include_colab_link": true
    },
    "kernelspec": {
      "name": "python3",
      "display_name": "Python 3"
    }
  },
  "cells": [
    {
      "cell_type": "markdown",
      "metadata": {
        "id": "view-in-github",
        "colab_type": "text"
      },
      "source": [
        "<a href=\"https://colab.research.google.com/github/ancastillar/Study-on-the-probability-of-payment-of-a-credit-requested-by-a-customer/blob/main/Model_LOAN_NOLINEAR.ipynb\" target=\"_parent\"><img src=\"https://colab.research.google.com/assets/colab-badge.svg\" alt=\"Open In Colab\"/></a>"
      ]
    },
    {
      "cell_type": "code",
      "metadata": {
        "id": "MR7oGMHBABuI"
      },
      "source": [
        "import pandas as pd\n",
        "import pydotplus\n",
        "import numpy  as np\n",
        "import matplotlib.pyplot as plt\n",
        "import seaborn as sns\n",
        "import statsmodels.api as sm\n",
        "\n",
        "from io import StringIO\n",
        "from IPython.display import Image, SVG\n",
        "from graphviz import Source\n",
        "from matplotlib import cm\n",
        "from matplotlib.colors import ListedColormap, LinearSegmentedColormap\n",
        "from matplotlib.patches import Patch\n",
        "from scipy.stats import chi2_contingency, norm\n",
        "from sklearn.tree import export_graphviz\n",
        "from sklearn import tree\n",
        "from sklearn.tree import DecisionTreeClassifier\n",
        "from sklearn.ensemble import RandomForestClassifier\n",
        "from sklearn.metrics import roc_curve, auc, accuracy_score\n",
        "from sklearn.model_selection import StratifiedKFold, train_test_split\n",
        "from statsmodels.formula.api import ols\n",
        "from sympy import var, plot_implicit, Eq\n",
        "\n",
        "# ignore log(0) and divide by 0 warning\n",
        "np.seterr(divide='ignore');"
      ],
      "execution_count": 7,
      "outputs": []
    },
    {
      "cell_type": "code",
      "metadata": {
        "id": "-8hx1XECB_Ep"
      },
      "source": [
        "df = pd.read_csv('/content/drive/MyDrive/data_davivienda/Lending_club.csv',\n",
        "                 dtype = {'loan_status':'category', 'annual_inc':'float',\n",
        "                          'verification_status':'category', 'emp_length':'category',\n",
        "                          'home_ownership':'category', 'int_rate':'object',\n",
        "                          'loan_amnt':'float', 'purpose':'category',\n",
        "                          'term':'category', 'grade':'category'})\n",
        "df['int_rate'] = df['int_rate'].str.rstrip('%').astype('float')"
      ],
      "execution_count": 5,
      "outputs": []
    },
    {
      "cell_type": "code",
      "metadata": {
        "colab": {
          "base_uri": "https://localhost:8080/",
          "height": 313
        },
        "id": "L6GGKB21Eo6e",
        "outputId": "e7a2066d-93c7-4cd4-b2c3-142d358d8314"
      },
      "source": [
        "df.head()"
      ],
      "execution_count": 6,
      "outputs": [
        {
          "output_type": "execute_result",
          "data": {
            "text/html": [
              "<div>\n",
              "<style scoped>\n",
              "    .dataframe tbody tr th:only-of-type {\n",
              "        vertical-align: middle;\n",
              "    }\n",
              "\n",
              "    .dataframe tbody tr th {\n",
              "        vertical-align: top;\n",
              "    }\n",
              "\n",
              "    .dataframe thead th {\n",
              "        text-align: right;\n",
              "    }\n",
              "</style>\n",
              "<table border=\"1\" class=\"dataframe\">\n",
              "  <thead>\n",
              "    <tr style=\"text-align: right;\">\n",
              "      <th></th>\n",
              "      <th>loan_status</th>\n",
              "      <th>annual_inc</th>\n",
              "      <th>verification_status</th>\n",
              "      <th>emp_length</th>\n",
              "      <th>home_ownership</th>\n",
              "      <th>int_rate</th>\n",
              "      <th>loan_amnt</th>\n",
              "      <th>purpose</th>\n",
              "      <th>term</th>\n",
              "      <th>grade</th>\n",
              "    </tr>\n",
              "  </thead>\n",
              "  <tbody>\n",
              "    <tr>\n",
              "      <th>0</th>\n",
              "      <td>Fully Paid</td>\n",
              "      <td>24000.0</td>\n",
              "      <td>Verified</td>\n",
              "      <td>10+ years</td>\n",
              "      <td>RENT</td>\n",
              "      <td>10.65</td>\n",
              "      <td>5000.0</td>\n",
              "      <td>credit_card</td>\n",
              "      <td>36 months</td>\n",
              "      <td>B</td>\n",
              "    </tr>\n",
              "    <tr>\n",
              "      <th>1</th>\n",
              "      <td>Charged Off</td>\n",
              "      <td>30000.0</td>\n",
              "      <td>Source Verified</td>\n",
              "      <td>&lt; 1 year</td>\n",
              "      <td>RENT</td>\n",
              "      <td>15.27</td>\n",
              "      <td>2500.0</td>\n",
              "      <td>car</td>\n",
              "      <td>60 months</td>\n",
              "      <td>C</td>\n",
              "    </tr>\n",
              "    <tr>\n",
              "      <th>2</th>\n",
              "      <td>Fully Paid</td>\n",
              "      <td>12252.0</td>\n",
              "      <td>Not Verified</td>\n",
              "      <td>10+ years</td>\n",
              "      <td>RENT</td>\n",
              "      <td>15.96</td>\n",
              "      <td>2400.0</td>\n",
              "      <td>small_business</td>\n",
              "      <td>36 months</td>\n",
              "      <td>C</td>\n",
              "    </tr>\n",
              "    <tr>\n",
              "      <th>3</th>\n",
              "      <td>Fully Paid</td>\n",
              "      <td>49200.0</td>\n",
              "      <td>Source Verified</td>\n",
              "      <td>10+ years</td>\n",
              "      <td>RENT</td>\n",
              "      <td>13.49</td>\n",
              "      <td>10000.0</td>\n",
              "      <td>other</td>\n",
              "      <td>36 months</td>\n",
              "      <td>C</td>\n",
              "    </tr>\n",
              "    <tr>\n",
              "      <th>4</th>\n",
              "      <td>Fully Paid</td>\n",
              "      <td>80000.0</td>\n",
              "      <td>Source Verified</td>\n",
              "      <td>1 year</td>\n",
              "      <td>RENT</td>\n",
              "      <td>12.69</td>\n",
              "      <td>3000.0</td>\n",
              "      <td>other</td>\n",
              "      <td>60 months</td>\n",
              "      <td>B</td>\n",
              "    </tr>\n",
              "  </tbody>\n",
              "</table>\n",
              "</div>"
            ],
            "text/plain": [
              "   loan_status  annual_inc  ...        term grade\n",
              "0   Fully Paid     24000.0  ...   36 months     B\n",
              "1  Charged Off     30000.0  ...   60 months     C\n",
              "2   Fully Paid     12252.0  ...   36 months     C\n",
              "3   Fully Paid     49200.0  ...   36 months     C\n",
              "4   Fully Paid     80000.0  ...   60 months     B\n",
              "\n",
              "[5 rows x 10 columns]"
            ]
          },
          "metadata": {
            "tags": []
          },
          "execution_count": 6
        }
      ]
    },
    {
      "cell_type": "markdown",
      "metadata": {
        "id": "dYccRJIaRw-k"
      },
      "source": [
        "##Disadvantages of logistic regression##\n",
        "Although logistic regression is one of the most commonly used classification algorithms, it is not the only one. If the underlying relationship between the logit of odds and the covariates is not linear, we need to consider higher order terms of the covariates to make the logistic model valid. Doing so requires a lot of tuning and experimenting. In such cases, it is often better to look at a classification algorithm that does not rely on a specific assumption about the relationship between the probability of the outcome and the covariates. Therefore we are going to introduce some of the most popular models"
      ]
    },
    {
      "cell_type": "markdown",
      "metadata": {
        "id": "762wPiCvShQV"
      },
      "source": [
        "##Naive Bayes Classifier##"
      ]
    },
    {
      "cell_type": "markdown",
      "metadata": {
        "id": "VLcwj4ePisEn"
      },
      "source": [
        "**Bayes Theorem**\n",
        "\n",
        "\n",
        "To solve a problem using Bayesian methods, we have to specify two functions: the likelihood function p(X|θ),which describes the probability of observing a dataset X for a given value of the unknown parameters θ, and the prior distribution p(θ), which describes any knowledge we have about the parameters before we collect the data. Note that the likelihood should be considered as a function of the parameters θ with the data X held fixed. The prior distribution and the likelihood functionare used to compute the posterior distribution p(θ|X) via Bayes’ rule:\n",
        ">  p($\\theta$|X)=$\\frac{p(X|\\theta) \\ p(\\theta)}{\\int d\\theta'\\ p(X|\\theta')\\ p(\\theta')}$\n",
        "\n",
        "In many cases, it will not be possible to analytically compute the normalizing constant in the denominator ofthe posterior distribution, p(X) =∫dθp(X|θ)p(θ),and Markov Chain Monte Carlo (MCMC) methods are needed to draw random samples from p(θ|X)\n",
        "\n",
        "**Deduction of Bayes Theorem**\n",
        "\n",
        "Let B be an event whose chance of occurrence must be measured under the assumption that an event A has been observed. If the experiment is repeated, under the same conditions, n times then the relative frequency of B under condition A is defined as follows: \n",
        "\n",
        "> $fr(B|A)=\\frac{n(A∩B))}{n(A)}; if\\quad n(A)>0$\n",
        "\n",
        "where n(A∩B) is the number of success cases to A∩B. When the experiment is performed a large enough number of times, we have:\n",
        "\n",
        "> $fr(B|A)=\\frac{\\frac{n(A∩B)}{n}}{\\frac{n(A)}{n}}; if\\quad n(A)>0$\n",
        "\n",
        "If n$\\rightarrow \\ \\infty$, the last equation becomes:\n",
        "\n",
        ">  $P(B|A)= \\frac{P(A∩B)}{P(A)}$\n",
        "\n",
        "From the last equation we can define the independency (other important concept)of two events as follows:\n",
        "\n",
        "> $P(A∩B)= P(A)P(B)$"
      ]
    },
    {
      "cell_type": "code",
      "metadata": {
        "id": "1H7-Zm00iuaN"
      },
      "source": [
        ""
      ],
      "execution_count": null,
      "outputs": []
    },
    {
      "cell_type": "code",
      "metadata": {
        "id": "dY2aAQmXEt5H"
      },
      "source": [
        ""
      ],
      "execution_count": null,
      "outputs": []
    }
  ]
}