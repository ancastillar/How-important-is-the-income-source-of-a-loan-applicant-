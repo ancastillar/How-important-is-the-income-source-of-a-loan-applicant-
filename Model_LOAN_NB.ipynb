{
  "nbformat": 4,
  "nbformat_minor": 0,
  "metadata": {
    "colab": {
      "name": "Model_LOAN_NB.ipynb",
      "provenance": [],
      "mount_file_id": "1iCJCbPYucJvHSObIDkqGrXer3ZuI2xgp",
      "authorship_tag": "ABX9TyMQznvS5ZDmtDcQHRcNt0Ad",
      "include_colab_link": true
    },
    "kernelspec": {
      "name": "python3",
      "display_name": "Python 3"
    }
  },
  "cells": [
    {
      "cell_type": "markdown",
      "metadata": {
        "id": "view-in-github",
        "colab_type": "text"
      },
      "source": [
        "<a href=\"https://colab.research.google.com/github/ancastillar/Study-on-the-probability-of-payment-of-a-credit-requested-by-a-customer/blob/main/Model_LOAN_NB.ipynb\" target=\"_parent\"><img src=\"https://colab.research.google.com/assets/colab-badge.svg\" alt=\"Open In Colab\"/></a>"
      ]
    },
    {
      "cell_type": "markdown",
      "metadata": {
        "id": "eF7da7mFBpbl"
      },
      "source": [
        "This notebook is structured as follows:\n",
        "\n",
        "*    Evaluate the disadvantages of implementing the logistic regression algorithm.\n",
        "\n",
        "* Learn the basics concepts of Naive Bayes model.\n",
        "\n",
        "* Learn about the how the algorithm works.\n",
        "\n",
        "* Implementation of NB classifier.\n",
        "\n",
        "* Contrast the performance between the algorithms: logistic regression and NB, for classification problems, using AUC/ROC metrics.\n",
        "\n",
        "\n"
      ]
    },
    {
      "cell_type": "code",
      "metadata": {
        "id": "MR7oGMHBABuI"
      },
      "source": [
        "import pandas as pd\n",
        "import pydotplus\n",
        "import numpy  as np\n",
        "import matplotlib.pyplot as plt\n",
        "import seaborn as sns\n",
        "import statsmodels.api as sm\n",
        "\n",
        "plt.style.use('ggplot')\n",
        "\n",
        "from io import StringIO\n",
        "from IPython.display import Image, SVG\n",
        "from graphviz import Source\n",
        "from matplotlib import cm\n",
        "from matplotlib.colors import ListedColormap, LinearSegmentedColormap\n",
        "from matplotlib.patches import Patch\n",
        "from scipy.stats import chi2_contingency, norm\n",
        "from sklearn.tree import export_graphviz\n",
        "from sklearn.metrics import roc_curve, auc, accuracy_score\n",
        "from sklearn.model_selection import StratifiedKFold, train_test_split\n",
        "from statsmodels.formula.api import ols\n",
        "from sympy import var, plot_implicit, Eq\n",
        "\n",
        "# ignore log(0) and divide by 0 warning\n",
        "np.seterr(divide='ignore');"
      ],
      "execution_count": null,
      "outputs": []
    },
    {
      "cell_type": "code",
      "metadata": {
        "id": "-8hx1XECB_Ep"
      },
      "source": [
        "df = pd.read_csv('/content/drive/MyDrive/data_davivienda/Lending_club.csv',\n",
        "                 dtype = {'loan_status':'category', 'annual_inc':'float',\n",
        "                          'verification_status':'category', 'emp_length':'category',\n",
        "                          'home_ownership':'category', 'int_rate':'object',\n",
        "                          'loan_amnt':'float', 'purpose':'category',\n",
        "                          'term':'category', 'grade':'category'})\n",
        "df['int_rate'] = df['int_rate'].str.rstrip('%').astype('float')"
      ],
      "execution_count": null,
      "outputs": []
    },
    {
      "cell_type": "code",
      "metadata": {
        "colab": {
          "base_uri": "https://localhost:8080/",
          "height": 206
        },
        "id": "L6GGKB21Eo6e",
        "outputId": "91cecaaf-1811-40a3-8382-c7d356bcb19c"
      },
      "source": [
        "df.head()"
      ],
      "execution_count": null,
      "outputs": [
        {
          "output_type": "execute_result",
          "data": {
            "text/html": [
              "<div>\n",
              "<style scoped>\n",
              "    .dataframe tbody tr th:only-of-type {\n",
              "        vertical-align: middle;\n",
              "    }\n",
              "\n",
              "    .dataframe tbody tr th {\n",
              "        vertical-align: top;\n",
              "    }\n",
              "\n",
              "    .dataframe thead th {\n",
              "        text-align: right;\n",
              "    }\n",
              "</style>\n",
              "<table border=\"1\" class=\"dataframe\">\n",
              "  <thead>\n",
              "    <tr style=\"text-align: right;\">\n",
              "      <th></th>\n",
              "      <th>loan_status</th>\n",
              "      <th>annual_inc</th>\n",
              "      <th>verification_status</th>\n",
              "      <th>emp_length</th>\n",
              "      <th>home_ownership</th>\n",
              "      <th>int_rate</th>\n",
              "      <th>loan_amnt</th>\n",
              "      <th>purpose</th>\n",
              "      <th>term</th>\n",
              "      <th>grade</th>\n",
              "    </tr>\n",
              "  </thead>\n",
              "  <tbody>\n",
              "    <tr>\n",
              "      <th>0</th>\n",
              "      <td>Fully Paid</td>\n",
              "      <td>24000.0</td>\n",
              "      <td>Verified</td>\n",
              "      <td>10+ years</td>\n",
              "      <td>RENT</td>\n",
              "      <td>10.65</td>\n",
              "      <td>5000.0</td>\n",
              "      <td>credit_card</td>\n",
              "      <td>36 months</td>\n",
              "      <td>B</td>\n",
              "    </tr>\n",
              "    <tr>\n",
              "      <th>1</th>\n",
              "      <td>Charged Off</td>\n",
              "      <td>30000.0</td>\n",
              "      <td>Source Verified</td>\n",
              "      <td>&lt; 1 year</td>\n",
              "      <td>RENT</td>\n",
              "      <td>15.27</td>\n",
              "      <td>2500.0</td>\n",
              "      <td>car</td>\n",
              "      <td>60 months</td>\n",
              "      <td>C</td>\n",
              "    </tr>\n",
              "    <tr>\n",
              "      <th>2</th>\n",
              "      <td>Fully Paid</td>\n",
              "      <td>12252.0</td>\n",
              "      <td>Not Verified</td>\n",
              "      <td>10+ years</td>\n",
              "      <td>RENT</td>\n",
              "      <td>15.96</td>\n",
              "      <td>2400.0</td>\n",
              "      <td>small_business</td>\n",
              "      <td>36 months</td>\n",
              "      <td>C</td>\n",
              "    </tr>\n",
              "    <tr>\n",
              "      <th>3</th>\n",
              "      <td>Fully Paid</td>\n",
              "      <td>49200.0</td>\n",
              "      <td>Source Verified</td>\n",
              "      <td>10+ years</td>\n",
              "      <td>RENT</td>\n",
              "      <td>13.49</td>\n",
              "      <td>10000.0</td>\n",
              "      <td>other</td>\n",
              "      <td>36 months</td>\n",
              "      <td>C</td>\n",
              "    </tr>\n",
              "    <tr>\n",
              "      <th>4</th>\n",
              "      <td>Fully Paid</td>\n",
              "      <td>80000.0</td>\n",
              "      <td>Source Verified</td>\n",
              "      <td>1 year</td>\n",
              "      <td>RENT</td>\n",
              "      <td>12.69</td>\n",
              "      <td>3000.0</td>\n",
              "      <td>other</td>\n",
              "      <td>60 months</td>\n",
              "      <td>B</td>\n",
              "    </tr>\n",
              "  </tbody>\n",
              "</table>\n",
              "</div>"
            ],
            "text/plain": [
              "   loan_status  annual_inc  ...        term grade\n",
              "0   Fully Paid     24000.0  ...   36 months     B\n",
              "1  Charged Off     30000.0  ...   60 months     C\n",
              "2   Fully Paid     12252.0  ...   36 months     C\n",
              "3   Fully Paid     49200.0  ...   36 months     C\n",
              "4   Fully Paid     80000.0  ...   60 months     B\n",
              "\n",
              "[5 rows x 10 columns]"
            ]
          },
          "metadata": {
            "tags": []
          },
          "execution_count": 13
        }
      ]
    },
    {
      "cell_type": "markdown",
      "metadata": {
        "id": "dYccRJIaRw-k"
      },
      "source": [
        "##Disadvantages of logistic regression##\n",
        "Although logistic regression is one of the most commonly used classification algorithms, it is not the only one. If the underlying relationship between the logit of odds and the covariates is not linear, we need to consider higher order terms of the covariates to make the logistic model valid. Doing so requires a lot of tuning and experimenting. In such cases, it is often better to look at a classification algorithm that does not rely on a specific assumption about the relationship between the probability of the outcome and the covariates. Therefore we are going to introduce some of the most popular models"
      ]
    },
    {
      "cell_type": "markdown",
      "metadata": {
        "id": "VLcwj4ePisEn"
      },
      "source": [
        "**Bayes Theorem**\n",
        "\n",
        "\n",
        "To solve a problem using Bayesian methods, we have to specify two functions: the likelihood function p(X|θ),which describes the probability of observing a dataset X for a given value of the unknown parameters θ, and the prior distribution p(θ), which describes any knowledge we have about the parameters before we collect the data. Note that the likelihood should be considered as a function of the parameters θ with the data X held fixed. The prior distribution and the likelihood functionare used to compute the posterior distribution p(θ|X) via Bayes’ rule:\n",
        ">  p($\\theta$|X)=$\\frac{p(X|\\theta) \\ p(\\theta)}{\\int d\\theta'\\ p(X|\\theta')\\ p(\\theta')}$\n",
        "\n",
        "In many cases, it will not be possible to analytically compute the normalizing constant in the denominator ofthe posterior distribution, p(X) =∫dθp(X|θ)p(θ),and Markov Chain Monte Carlo (MCMC) methods are needed to draw random samples from p(θ|X).[1]\n",
        "\n",
        "**Deduction of Bayes Theorem**\n",
        "\n",
        "Let B be an event whose chance of occurrence must be measured under the assumption that an event A has been observed. If the experiment is repeated, under the same conditions, n times then the relative frequency of B under condition A is defined as follows: \n",
        "\n",
        "> $fr(B|A)=\\frac{n(A\\cap B)}{n(A)}; if\\quad n(A)>0$\n",
        "\n",
        "where n(A∩B) is the number of success cases to A∩B. When the experiment is performed a large enough number of times, we have:\n",
        "\n",
        "> $fr(B|A)=\\frac{\\frac{n(A\\cap B)}{n}}{\\frac{n(A)}{n}}; if\\quad n(A)>0$\n",
        "\n",
        "If n$\\rightarrow \\ \\infty$, the last equation becomes:\n",
        "\n",
        ">  $P(B|A)= \\frac{P(A\\cap B)}{P(A)}$\n",
        "\n",
        "From the last equation we can define the independency (other important concept)of two events as follows:\n",
        "\n",
        "> $P(A \\cap B)= P(A)P(B)$\n",
        "\n",
        "\n",
        "Recalling the following definitions we can get two important results:\n",
        "\n",
        "> **sample space**: $\\Omega=\\{ \\omega_n \\}\\quad n \\in (0, \\infty)$ $\\quad$where $\\omega_i\\cap\\omega_j=\\phi$: \n",
        "\n",
        "\n",
        "**Total probability rule**\n",
        "\n",
        "$P(B)= P(B\\cap \\Omega)$ = $P(\\cup_n(B \\cap \\omega_n )$ = $\\sum_n P(B\\cap \\omega_n)$ = $\\sum_n P(B|\\omega_n)P(\\omega_n)$ \n",
        "\n",
        "from the last rule we get the next corollary:\n",
        "\n",
        "Corollary:  Be it $\\omega_1, \\omega_2...$ a finite sample of $\\Omega$ with P(A_i)> 0 for all $i$ we have:\n",
        "\n",
        "> $P(\\omega_i| B)=\\frac{P(\\omega_i) P(B| \\omega_i)}{\\sum_j P(B| \\omega_j) P(\\omega_j)} $\n",
        "\n",
        "\n",
        "> Proof:\n",
        "\n",
        "> $P(\\omega_i|B)=\\frac{P(\\omega_i \\cap B)}{P(B)}= \\frac{P(\\omega_i)P(B|\\omega_i)}{P(B)}= \\frac{P(\\omega_i)P(B|\\omega_i)}{\\sum_j P(B|\\omega_j)P(\\omega_j)} $  \n",
        "\n",
        "\n",
        "if $j\\ \\rightarrow \\ \\infty$ then:\n",
        "\n",
        "> p($\\omega$|X)=$\\frac{p(X| \\omega) \\ p(\\omega)}{\\int d\\omega'\\ p(X|\\omega')\\ p(\\omega')}$ \n",
        "\n",
        "The last equation is the continuous version of Bayes rule[2]"
      ]
    },
    {
      "cell_type": "markdown",
      "metadata": {
        "id": "BrKCFMfBI6XU"
      },
      "source": [
        "##Naive Bayes Clasiffier##"
      ]
    },
    {
      "cell_type": "markdown",
      "metadata": {
        "id": "LOUKUlOgJUhm"
      },
      "source": [
        "This algorithm is based on Bayes' theorem, which is a conditional probability theorem (see previous section). The principal idea for this project is:\n",
        "\n",
        "> Given a client with certain characteristics, we will use Bayes' theorem and the observed data to estimate the probability that defaulters and non-defaulters have the same characteristics as the client. The larger of these two probabilities would then determine how we classify the client."
      ]
    },
    {
      "cell_type": "markdown",
      "metadata": {
        "id": "1bA2m1ScVITS"
      },
      "source": [
        "Let's go to determine whether $\\text{P(defaulter| income verified)}$ is larger than $\\text{P(non-defaulter| income verified)}$ using Bayes' theorem:\n",
        "\n",
        "\n",
        ">  $\\text{P(defaulter| income verified)}=\\frac{\\text{P(income verified|  defaulter)}\\ \\text{P(defaulter)}}{\\text{P(income verified)}}$ ; $\\text{P(non-defaulter|  income verified)}=\\frac{\\text{P(income verified|  non-defaulter)} \\ \\text{P(non-defaulter)}}{\\text{P(income verified)}}$\n",
        "\n",
        "\n",
        "In order to get the answer we need to do an assumption and verify if this is true or not:\n",
        "\n",
        "\n",
        ">  $\\text{P(defaulter|  income verified)} \\ \\text{P(defaulter)}$< $\\text{P(non defaulter|  income verified)}\\ \\text{P(non-defaulter)}\\quad (1)$\n",
        "\n",
        "\n"
      ]
    },
    {
      "cell_type": "markdown",
      "metadata": {
        "id": "ce6UyeNaYAz0"
      },
      "source": [
        "First we are going to calculate the probability $\\text{P(defaulter)}$ and $\\text{P(non-defaulter)}$:"
      ]
    },
    {
      "cell_type": "code",
      "metadata": {
        "colab": {
          "base_uri": "https://localhost:8080/"
        },
        "id": "1H7-Zm00iuaN",
        "outputId": "1c88feef-fa22-4317-9dd4-d0a316bf7e30"
      },
      "source": [
        "p_def=df[df['loan_status']=='Charged Off']['loan_status'].count()/df['loan_status'].count()\n",
        "print('P(defaulter)={:.3f} \\nP(non-defaulter)={:.3f}'.format(p_def, 1-p_def))"
      ],
      "execution_count": null,
      "outputs": [
        {
          "output_type": "stream",
          "text": [
            "P(defaulter)=0.141 \n",
            "P(non-defaulter)=0.859\n"
          ],
          "name": "stdout"
        }
      ]
    },
    {
      "cell_type": "markdown",
      "metadata": {
        "id": "U2OGQz74YUGx"
      },
      "source": [
        "Now we are goingt to calculate the probability $\\text{P(income verified| defaulter)}$ and $\\text{P(income verified| non-defaulter)}$:"
      ]
    },
    {
      "cell_type": "code",
      "metadata": {
        "colab": {
          "base_uri": "https://localhost:8080/"
        },
        "id": "dY2aAQmXEt5H",
        "outputId": "8b8a549d-cce0-4038-8921-b0d0ad1a1d11"
      },
      "source": [
        "p_id=df[(df['loan_status']=='Charged Off') & (df['verification_status']=='Verified')]['loan_status'].count()/df[df['loan_status']=='Charged Off']['loan_status'].count()\n",
        "p_ind=df[(df['loan_status']=='Fully Paid') & (df['verification_status']=='Verified')]['loan_status'].count()/df[df['loan_status']=='Fully Paid']['loan_status'].count()\n",
        "print('P(income verified given defaulter)={:.3f} \\nP(income verified given non-defaulter)={:.3f}'.format(p_id, p_ind))"
      ],
      "execution_count": null,
      "outputs": [
        {
          "output_type": "stream",
          "text": [
            "P(income verified given defaulter)=0.363 \n",
            "P(income verified given non-defaulter)=0.313\n"
          ],
          "name": "stdout"
        }
      ]
    },
    {
      "cell_type": "markdown",
      "metadata": {
        "id": "7mu9334xajpY"
      },
      "source": [
        "We can evaluate the equation (1)"
      ]
    },
    {
      "cell_type": "code",
      "metadata": {
        "colab": {
          "base_uri": "https://localhost:8080/"
        },
        "id": "4HxFVzPFYjb_",
        "outputId": "d12e0a11-7c3e-4512-a0c5-918aed520369"
      },
      "source": [
        "p_def_iv=p_id*p_def\n",
        "p_ndef_iv=p_ind*(1-p_def)\n",
        "print('P(defaulter|income verified)  is proportional to {:.3f}  \\\n",
        "\\nP(non-defaulter|income verified) is proportional to {:.3f}'.format(p_def_iv, p_ndef_iv))"
      ],
      "execution_count": null,
      "outputs": [
        {
          "output_type": "stream",
          "text": [
            "P(defaulter|income verified)  is proportional to 0.051  \n",
            "P(non-defaulter|income verified) is proportional to 0.269\n"
          ],
          "name": "stdout"
        }
      ]
    },
    {
      "cell_type": "markdown",
      "metadata": {
        "id": "WD9GG98napj3"
      },
      "source": [
        " If we only have information about the income verification status of our clients, we would probably give loans to those clients whose income has been verified. What happens if the client is either `Source Verified` or `Not Verified`? We can repeat the same procedure:"
      ]
    },
    {
      "cell_type": "code",
      "metadata": {
        "colab": {
          "base_uri": "https://localhost:8080/"
        },
        "id": "1xTiO16gZQid",
        "outputId": "784b98a8-d541-4cc2-dd88-a732d3a6b32b"
      },
      "source": [
        "p_id2=df[(df['loan_status']=='Charged Off') & (df['verification_status']=='Source Verified')]['loan_status'].count()/df[df['loan_status']=='Charged Off']['loan_status'].count()\n",
        "p_ind2=df[(df['loan_status']=='Fully Paid') & (df['verification_status']=='Source Verified')]['loan_status'].count()/df[df['loan_status']=='Fully Paid']['loan_status'].count()\n",
        "\n",
        "p_def_iv2=p_id2*p_def\n",
        "p_ndef_iv2=p_ind2*(1-p_def)\n",
        "print('P(defaulter|income source verified)  is proportional to {:.3f}  \\\n",
        "\\nP(non-defaulter|income source verified) is proportional to {:.3f}'.format(p_def_iv2, p_ndef_iv2))"
      ],
      "execution_count": null,
      "outputs": [
        {
          "output_type": "stream",
          "text": [
            "P(defaulter|income source verified)  is proportional to 0.037  \n",
            "P(non-defaulter|income source verified) is proportional to 0.217\n"
          ],
          "name": "stdout"
        }
      ]
    },
    {
      "cell_type": "code",
      "metadata": {
        "colab": {
          "base_uri": "https://localhost:8080/"
        },
        "id": "7mY_LYgja4bJ",
        "outputId": "258a93f4-cbbb-4b3e-eb00-eccf45e02a3a"
      },
      "source": [
        "p_id3=df[(df['loan_status']=='Charged Off') & (df['verification_status']=='Not Verified')]['loan_status'].count()/df[df['loan_status']=='Charged Off']['loan_status'].count()\n",
        "p_ind3=df[(df['loan_status']=='Fully Paid') & (df['verification_status']=='Not Verified')]['loan_status'].count()/df[df['loan_status']=='Fully Paid']['loan_status'].count()\n",
        "\n",
        "p_def_iv3=p_id3*p_def\n",
        "p_ndef_iv3=p_ind3*(1-p_def)\n",
        "print('P(defaulter|income not verified)  is proportional to {:.3f}  \\\n",
        "\\nP(non-defaulter| income not verified) is proportional to {:.3f}'.format(p_def_iv3, p_ndef_iv3))"
      ],
      "execution_count": null,
      "outputs": [
        {
          "output_type": "stream",
          "text": [
            "P(defaulter|income not verified)  is proportional to 0.053  \n",
            "P(non-defaulter| income not verified) is proportional to 0.373\n"
          ],
          "name": "stdout"
        }
      ]
    },
    {
      "cell_type": "markdown",
      "metadata": {
        "id": "jRwKVlJfbJ0H"
      },
      "source": [
        "The conditional probabilities of being a non-defaulter are always bigger than those for being a defaulter, remenber that in the notebook of logistic regression we find a Simsonp paradox for the `verified_status` and `loan_status`"
      ]
    },
    {
      "cell_type": "markdown",
      "metadata": {
        "id": "0QwViLLbdMin"
      },
      "source": [
        "##The algorithm and assumptions##\n",
        "\n",
        "There are two possible routes that we can follow to create a classification algorithm from Bayes' theorem.\n",
        "\n",
        "#### Probabilistic Model\n",
        "\n",
        "Recall that in logistic regression, the main quantity of interest is the probability of no default (remember that our encoding was 1 for non-defaulters and 0 for defaulters) given specific values for the covariates. We explicitly modeled this probability as a linear function of covariates after transformation by the logit function. \n",
        "\n",
        "The Naive Bayes classifier aims to estimate this probability from a different perspective. From Bayes' theorem, we can express this conditional probability in the following way:\n",
        "\n",
        "$$\\text{P(non-defaulter|covariates=values)} = \\frac{\\text{P(covariates=values| non-defaulter)P(defaulter)}}{\\text{P(covariates=values)}}.$$\n",
        "\n",
        "**Then, we create our classifier as in the logistic model by selecting a threshold $t$ and classify a client with given covariates values as a defaulter if:**\n",
        "\n",
        "$$\n",
        "\\text{P(non-defaulter|covariates=values)}>t.\n",
        "$$\n",
        "\n",
        "#### Maximum A Posteriori Model (MAP)\n",
        "\n",
        "For this classifier, a client with given covariates values is classified as a non-defaulter if:\n",
        "\n",
        "$$\n",
        "\\text{P(non-defaulter|covariates=values)}>\\text{P(defaulter|covariates=values)}\n",
        "$$\n",
        "\n",
        "which is equivalent to:\n",
        "\n",
        "$\\text{P(covariates=values|non-defaulter)P(non-defaulter)}>\\text{P(covariates=values|defaulter)P(defaulter)}\\tag{**}\n",
        "$\n",
        "**Note: This assumption is the same of the equation (1)**\n",
        "\n",
        "Let's take a look at each of these quantities:\n",
        "\n",
        "1. $\\text{P(defaulter)}$ and $\\text{P(non-defaulter)}$. These are the probabilities of having a defaulter and a non-defaulter. These can be easily estimated using the proportion of defaulters in the dataset.\n",
        "2. $\\text{P(covariates=values)}$. This is the probability of having a customer whose covariates are equal to $\\text{values}$. This can also be estimated by proportions, but we will actually find out that it is not necessary to estimate this quantity at all (more on this later).\n",
        "3. $\\text{P(covariates=values| non-defaulter)}$ and $\\text{P(covariates=values| defaulter)}$. We can estimate these by looking at the proportion of defaulters and non-defaulters with covariates equal to $\\text{values}$. But if we have a lot of covariates, the number of such defaulters might be extremely small or even equal to zero. The main challenge in building a Naive Bayes classifier is estimating these particular probabilities.\n",
        "\n",
        "Indeed, when the number of covariates is large, it is hard to estimate $\\text{P(covariates=values given non-defaulter)}$ by proportions directly. For instance, suppose that we have 10 covariates and that all of them are binary variables. Then, the total number of possible values these covariates can take is equal to $2^{10}=1024$. Thus, in order to estimate $\\text{P(covariates=values given non-defaulter)}$ we would need at least $1024$ samples! If we want to go even further, suppose we want to classify texts having most 82 words, where each word in the text has 10 possible alternatives. The number of samples we would need will be larger than the number of atoms in the universe!\n",
        "\n",
        "##Assumption of Naive##\n",
        "\n",
        "All classifiers start from a master algorithm and are differentiated from a different assumption for each classifier. For example, in this case,the Naive Bayes classifier makes the assumption that *all covariates are independent when conditioned on the outcome*.\n",
        "\n",
        "$$\n",
        "\\text{P(covariates=values given non-defaulter)} = \\text{P(covariate}_1\\text{=value}_1\\text{ given non-defaulter)}\\times\\cdots\\times\\text{P(covariate}_p\\text{=value}_p\\text{ given non-defaulter)}\n",
        "$$\n",
        "\n",
        "\n",
        "IMPORTANT: **Here we assume there are $p$ covariates in total. This significantly reduces the amount of samples required for the estimation! For instance, consider the example with 10 covariates, all of which are binary variables. Here, we need to estimate 10 simpler conditional probabilities and each one of them only concerns one binary variable, which has 2 possible outcomes. So we only need at least $2×10=20$ samples now, which is much smaller than $1024$.**"
      ]
    },
    {
      "cell_type": "markdown",
      "metadata": {
        "id": "ptkWO-jjK_TT"
      },
      "source": [
        "##What about continuous covariates?##\n",
        "Computing proporitions works great for calculating the probabilities for discrete covariates. But what about variables like `annual_inc` that take on a continuous range of values? For these, we need to fit a *distribution* to the data. In the natural world, many things are governed by a normal distribution. To fit a normal distribution, all we need to specify is its mean and variance. The normal distribution with mean equal to the sample mean and variance equal to the sample variance of the covariate turns out to be a very good approximation. Once we get this normal distribution, the probabilities can be calculated directly for any covariate value."
      ]
    },
    {
      "cell_type": "markdown",
      "metadata": {
        "id": "KkJx-dJ-M58P"
      },
      "source": [
        "\n",
        "Find the normal distribution that most aligned with the observed distribution of `annual_inc` in defaulters. Based on this normal distribution, calculate $\\text{P(annual_inc=10,000|defaulter)}$. Function `pdf()` in `scipy.stats.norm` \n",
        "calculates the density of a normal distribution at a given value."
      ]
    },
    {
      "cell_type": "markdown",
      "metadata": {
        "id": "XnKxF0YgMcoA"
      },
      "source": [
        "Let's fit the continuous variables with some distribution in this case (normal):"
      ]
    },
    {
      "cell_type": "code",
      "metadata": {
        "colab": {
          "base_uri": "https://localhost:8080/"
        },
        "id": "7Q4KXJQUbARK",
        "outputId": "76564b9d-0e8b-482f-e5c9-c8504458d017"
      },
      "source": [
        "df_default = df[df['loan_status']=='Charged Off']\n",
        "df_ndefault=df[df['loan_status']=='Fully Paid']\n",
        "\n",
        "mean_est = df_default['annual_inc'].mean()\n",
        "var_est = df_default['annual_inc'].var()\n",
        "\n",
        "# pdf takes standard deviation as scale parameter\n",
        "# note we have log10 transformed annual_inc so when call norm.pdf, we should evaluate at 4\n",
        "print(f\"P(annual_inc=10,000|defaulter) = {norm.pdf(10000, loc = mean_est, scale = np.sqrt(var_est))}\")"
      ],
      "execution_count": null,
      "outputs": [
        {
          "output_type": "stream",
          "text": [
            "P(annual_inc=10,000|defaulter) = 4.473123137400813e-06\n"
          ],
          "name": "stdout"
        }
      ]
    },
    {
      "cell_type": "markdown",
      "metadata": {
        "id": "UDZ5Lr7DOWmP"
      },
      "source": [
        "The last exercise was very easy to obtain from the data but, what about the inverse case? $\\text{P(defaulter|annual_inc=10,000)}$ It is not trivial, right?"
      ]
    },
    {
      "cell_type": "markdown",
      "metadata": {
        "id": "FK27UYdIO8JA"
      },
      "source": [
        "Now, we claim that we can use the following procedure to get $\\text{P(non-defaulter|covariates=values)}$:\n",
        "\n",
        "1. Estimate $\\text{P(defaulter)}$ and $\\text{P(non-defaulter)}$.\n",
        "2. Estimate $\\text{P(covariates=values|defaulter)}$ and $\\text{P(covariates=values given non-defaulter)}$\n",
        "3. Estimate $\\text{P(non-defaulter|covariates=values)}$ with the following equation:\n",
        "\n",
        "$$\n",
        "    \\frac{\\text{P(covariates=values| non-defaulter)}\\text{P(non-defaulter)}}{\\text{P(covariates=values|defaulter)}\\text{P(defaulter)}+\\text{P(covariates=values|non-defaulter)}\\text{P(non-defaulter)}}\n",
        "$$"
      ]
    },
    {
      "cell_type": "markdown",
      "metadata": {
        "id": "Qm2_KNoHSM89"
      },
      "source": [
        "##Feature engenier##"
      ]
    },
    {
      "cell_type": "code",
      "metadata": {
        "colab": {
          "base_uri": "https://localhost:8080/",
          "height": 282
        },
        "id": "2yH6iqS0O6xG",
        "outputId": "7336273a-8bfb-4370-c57b-040133b8d931"
      },
      "source": [
        "# plot the distribution of the continuous variable\n",
        "sns.violinplot(x='loan_status', y='loan_amnt', data=df);"
      ],
      "execution_count": null,
      "outputs": [
        {
          "output_type": "display_data",
          "data": {
            "image/png": "[encoded data removed]",
            "text/plain": [
              "<Figure size 432x288 with 1 Axes>"
            ]
          },
          "metadata": {
            "tags": []
          }
        }
      ]
    },
    {
      "cell_type": "code",
      "metadata": {
        "colab": {
          "base_uri": "https://localhost:8080/",
          "height": 286
        },
        "id": "VY671A2YNJdJ",
        "outputId": "5738a3b5-f21c-46da-89ae-fe11e400097d"
      },
      "source": [
        "#We have to standardize  this variable to view better results\n",
        "ax = sns.violinplot(x=df['loan_status'], y=np.log10(df['annual_inc']));\n",
        "ax.set(ylabel='log annual_inc');"
      ],
      "execution_count": null,
      "outputs": [
        {
          "output_type": "display_data",
          "data": {
            "image/png": "[encoded data removed]",
            "text/plain": [
              "<Figure size 432x288 with 1 Axes>"
            ]
          },
          "metadata": {
            "tags": []
          }
        }
      ]
    },
    {
      "cell_type": "code",
      "metadata": {
        "colab": {
          "base_uri": "https://localhost:8080/",
          "height": 282
        },
        "id": "v3lu59XnScrQ",
        "outputId": "902eea84-956c-4510-c103-a92e8d6cc69b"
      },
      "source": [
        "sns.violinplot(x='loan_status', y='int_rate', data=df);\n",
        " #Here the distribution are very different in the two types of users"
      ],
      "execution_count": null,
      "outputs": [
        {
          "output_type": "display_data",
          "data": {
            "image/png": "[encoded data removed]",
            "text/plain": [
              "<Figure size 432x288 with 1 Axes>"
            ]
          },
          "metadata": {
            "tags": []
          }
        }
      ]
    },
    {
      "cell_type": "markdown",
      "metadata": {
        "id": "I-NOqwXDT_p4"
      },
      "source": [
        "\n",
        "However, the distribution for `int_rate` is close enough to normal, but that of `loan_amnt` seems a bit skewed (although nowhere near the degree of `annual_inc`. Let's apply a square root transformation:"
      ]
    },
    {
      "cell_type": "code",
      "metadata": {
        "colab": {
          "base_uri": "https://localhost:8080/",
          "height": 282
        },
        "id": "HJKWx25pT_LH",
        "outputId": "2a0e58fa-4b54-4b25-cab5-6a60ff9a4bfe"
      },
      "source": [
        "ax = sns.violinplot(x = df['loan_status'], y = np.sqrt(df['loan_amnt']));\n",
        "ax.set(ylabel='sqrt loan_amnt');"
      ],
      "execution_count": null,
      "outputs": [
        {
          "output_type": "display_data",
          "data": {
            "image/png": "[encoded data removed]",
            "text/plain": [
              "<Figure size 432x288 with 1 Axes>"
            ]
          },
          "metadata": {
            "tags": []
          }
        }
      ]
    },
    {
      "cell_type": "markdown",
      "metadata": {
        "id": "PKySBaANUOAj"
      },
      "source": [
        "From the above exercise, we find that we need to transform `annual_inc` and `loan_amnt` so that the normality assumption can be approximately satisfied. We will use the transformed variables to construct the Naive Bayes estimator:"
      ]
    },
    {
      "cell_type": "code",
      "metadata": {
        "id": "0CDHJ_zWSgjA"
      },
      "source": [
        "df['annual_inc_log'] = np.log10(df['annual_inc'])\n",
        "df['loan_amnt_sqrt'] = np.sqrt(df['loan_amnt'])"
      ],
      "execution_count": null,
      "outputs": []
    },
    {
      "cell_type": "markdown",
      "metadata": {
        "id": "bs_9q5ClUR5j"
      },
      "source": [
        "## **Implementing the classifier**------------------------------------**Algorithm**----------------------------------"
      ]
    },
    {
      "cell_type": "code",
      "metadata": {
        "id": "mvrUMBmzURZz"
      },
      "source": [
        "#function to fit the continous variables a normal distribution\n",
        "\n",
        "\"\"\"\n",
        "Learn parameters for continuous covariate\n",
        "y is a binary outcome\n",
        "X is a pandas series of a continuous covariate\n",
        "\"\"\"\n",
        "def nb_fit_con(y, X):\n",
        "    y_code = y.cat.codes\n",
        "    X_0 = X[y_code==0]\n",
        "    X_1 = X[y_code==1]\n",
        "    return [[np.mean(X_0), np.std(X_0)], [np.mean(X_1), np.std(X_1)]]"
      ],
      "execution_count": null,
      "outputs": []
    },
    {
      "cell_type": "markdown",
      "metadata": {
        "id": "IBrDmnQkYDhX"
      },
      "source": [
        "Next, we write a function `nb_fit_dis` to estimate the probabilities of each level of a discrete covariate in defaulters and non-defaulters:"
      ]
    },
    {
      "cell_type": "code",
      "metadata": {
        "id": "Wxu-p5tNX3jO"
      },
      "source": [
        "\"\"\"\n",
        "Learn parameters for discrete covariate\n",
        "y is a binary outcome\n",
        "X is a pandas series of a discrete covariate\n",
        "\"\"\"\n",
        "def nb_fit_dis(y, X):\n",
        "    y_code = y.cat.codes\n",
        "    X_code = X.cat.codes\n",
        "    X_nlvl = len(X.cat.categories)\n",
        "    \n",
        "    X_0 = X_code[y_code==0]\n",
        "    X_1 = X_code[y_code==1]\n",
        "    \n",
        "    X_0_freq = [np.sum(X_0==x)/len(X_0) for x in range(X_nlvl)]\n",
        "    X_1_freq = [np.sum(X_1==x)/len(X_1) for x in range(X_nlvl)]\n",
        "    return [X_0_freq, X_1_freq]"
      ],
      "execution_count": null,
      "outputs": []
    },
    {
      "cell_type": "markdown",
      "metadata": {
        "id": "WgK0xgn3YRD-"
      },
      "source": [
        "The following function uses the two estimation functions we wrote above to train a Naive Bayes classifier:"
      ]
    },
    {
      "cell_type": "code",
      "metadata": {
        "id": "5zLVb0RTYNOV"
      },
      "source": [
        "\"\"\"\n",
        "y is a binary outcome\n",
        "X is a pandas dataframe of covariates\n",
        "\"\"\"\n",
        "def train_nb_classifier(y, X):\n",
        "    trained_model = {}\n",
        "    for ind_col in X.columns:\n",
        "        # check data type\n",
        "        if X[ind_col].dtype=='float':\n",
        "            params_fit = nb_fit_con(y, X[ind_col])\n",
        "        else:\n",
        "            params_fit = nb_fit_dis(y, X[ind_col])\n",
        "        trained_model[ind_col] = params_fit\n",
        "    margin_p_0 = np.sum(y.cat.codes==0)/len(y)\n",
        "    trained_model['margin_p'] = [margin_p_0, 1-margin_p_0]\n",
        "    return trained_model"
      ],
      "execution_count": null,
      "outputs": []
    },
    {
      "cell_type": "markdown",
      "metadata": {
        "id": "xG2ppk_hYuib"
      },
      "source": [
        "Once the model is trained, the following function `predict_nb_classifier` predicts the probability of not defaulting for new samples:"
      ]
    },
    {
      "cell_type": "code",
      "metadata": {
        "id": "lOgB4j1oYd3x"
      },
      "source": [
        "\"\"\"\n",
        "log of normal density\n",
        "\"\"\"\n",
        "def log_dnorm(x, loc, scale):\n",
        "    return -(x-loc)**2/2/(scale**2) - np.log(scale) - 0.5*np.log(2*np.pi)\n",
        "\n",
        "\"\"\"\n",
        "prediction\n",
        "X_test: a pandas dataframe of covariates for prediction\n",
        "        discrete vars have the same coding scheme as in the train dataset\n",
        "\"\"\"\n",
        "\n",
        "def predict_nb_classifier( nb_fit, X_test ):\n",
        "    pred_0_p = np.ones(X_test.shape[0] )*np.log(nb_fit['margin_p'][0])\n",
        "    pred_1_p = np.ones(X_test.shape[0] )*np.log(nb_fit['margin_p'][1])\n",
        "    \n",
        "    for ind_col in X_test.columns:\n",
        "        params = nb_fit[ind_col]\n",
        "        if X_test[ind_col].dtype=='float':\n",
        "            #increment prob for outcome 0 for all samples\n",
        "            update_0 = log_dnorm(X_test[ind_col], loc = params[0][0], scale = params[0][1])\n",
        "            update_1 = log_dnorm(X_test[ind_col], loc = params[1][0], scale = params[1][1])\n",
        "        else:\n",
        "            update_0 = [np.log(params[0][x]) for x in X_test[ind_col].cat.codes]\n",
        "            update_1 = [np.log(params[1][x]) for x in X_test[ind_col].cat.codes]\n",
        "        pred_0_p = pred_0_p + update_0\n",
        "        pred_1_p = pred_1_p + update_1\n",
        "    \n",
        "    #calculate the estimated probability of outcome=1\n",
        "    #specifically handle Inf\n",
        "    p_ratio = np.exp(pred_1_p-pred_0_p)\n",
        "    p_1 = p_ratio/(1+p_ratio)\n",
        "    p_1[p_ratio==np.Inf] = 1\n",
        "    \n",
        "    return p_1"
      ],
      "execution_count": null,
      "outputs": []
    },
    {
      "cell_type": "code",
      "metadata": {
        "id": "YwjzX1m-Yx5y"
      },
      "source": [
        "def cv_roc_nb(X, y, n_split):\n",
        "    \n",
        "    cv = StratifiedKFold(n_split)\n",
        "    \n",
        "    tprs = []\n",
        "    aucs = []\n",
        "    mean_fpr = np.linspace(0, 1, 100)\n",
        "    for train, test in cv.split(X, y):\n",
        "        nb_trained = train_nb_classifier(y.iloc[train], X.iloc[train])\n",
        "        probas_ = predict_nb_classifier(nb_trained, X.iloc[test])\n",
        "        \n",
        "        # Compute ROC curve and area the curve\n",
        "        \n",
        "        fpr, tpr, thresholds = roc_curve(y.iloc[test].cat.codes, probas_)\n",
        "        tprs.append(np.interp(mean_fpr, fpr, tpr))\n",
        "        tprs[-1][0] = 0.0\n",
        "        roc_auc = auc(fpr, tpr)\n",
        "        aucs.append(roc_auc)\n",
        "    \n",
        "    return tprs, aucs, mean_fpr"
      ],
      "execution_count": null,
      "outputs": []
    },
    {
      "cell_type": "code",
      "metadata": {
        "id": "F-4ueGmIY-_J"
      },
      "source": [
        "# fit NB\n",
        "tprs_nb, aucs_nb, mean_fpr_nb = cv_roc_nb(df[['term', 'verification_status', 'annual_inc_log']], df['loan_status'], 5)"
      ],
      "execution_count": null,
      "outputs": []
    },
    {
      "cell_type": "code",
      "metadata": {
        "colab": {
          "base_uri": "https://localhost:8080/"
        },
        "cellView": "form",
        "id": "UeWUNJc3ZuV-",
        "outputId": "ab5aca2d-31d3-411d-caa2-b9951910d67a"
      },
      "source": [
        "#@title LogisticR DATA\n",
        "# normalize and set-up the data\n",
        "df_log = pd.concat([(df['loan_amnt'] - df['loan_amnt'].mean())/df['loan_amnt'].std(),\n",
        "                     (df['int_rate'] - df['int_rate'].mean())/df['int_rate'].std(),\n",
        "                     (df['annual_inc'] - df['annual_inc'].mean())/df['annual_inc'].std(),\n",
        "                     pd.get_dummies(df['home_ownership'], prefix='home', drop_first=True),\n",
        "                     pd.get_dummies(df['purpose'], prefix='purpose', drop_first=True),\n",
        "                     pd.get_dummies(df['grade'], prefix='grade', drop_first=True)], axis=1)\n",
        "df_log['verification_status'] = df['verification_status'].cat.codes\n",
        "df_log['emp_length'] = df['emp_length'].cat.codes\n",
        "df_log['term'] = df['term'].cat.codes\n",
        "df_log['Intercept'] = 1\n",
        "\n",
        "# fit the logistic regression model\n",
        "logit_full1 = sm.Logit(df['loan_status'].cat.codes, df_log)\n",
        "logit_full1_res = logit_full1.fit()\n",
        "predict_withvs = logit_full1_res.predict(df_log)\n",
        "\n",
        "# generate cross-validated ROC and AUC for logistic regression model\n",
        "\n",
        "def cv_roc(X, y, n_split):\n",
        "    \n",
        "    cv = StratifiedKFold(n_split)\n",
        "    \n",
        "    tprs = []\n",
        "    aucs = []\n",
        "    mean_fpr = np.linspace(0, 1, 100)\n",
        "    for train, test in cv.split(X, y):\n",
        "        logit = sm.Logit(y.iloc[train], X.iloc[train])\n",
        "        logit_res = logit.fit(disp=0)\n",
        "        probas_ = logit_res.predict(X.iloc[test])\n",
        "        # Compute ROC curve and area under the curve\n",
        "        fpr, tpr, thresholds = roc_curve(y.iloc[test], probas_)\n",
        "        tprs.append(np.interp(mean_fpr, fpr, tpr))\n",
        "        tprs[-1][0] = 0.0\n",
        "        roc_auc = auc(fpr, tpr)\n",
        "        aucs.append(roc_auc)\n",
        "    \n",
        "    return tprs, aucs, mean_fpr"
      ],
      "execution_count": null,
      "outputs": [
        {
          "output_type": "stream",
          "text": [
            "Optimization terminated successfully.\n",
            "         Current function value: 0.378195\n",
            "         Iterations 7\n"
          ],
          "name": "stdout"
        }
      ]
    },
    {
      "cell_type": "code",
      "metadata": {
        "id": "ftyfi0aRZNTK"
      },
      "source": [
        "# fit logistic\n",
        "tprs_lgs, aucs_lgs, mean_fpr_lgs = cv_roc(df_log[['Intercept', 'term', 'verification_status', 'annual_inc']], df['loan_status'].cat.codes, 5)\n"
      ],
      "execution_count": null,
      "outputs": []
    },
    {
      "cell_type": "code",
      "metadata": {
        "colab": {
          "base_uri": "https://localhost:8080/",
          "height": 299
        },
        "id": "bEVZxRvwZRf_",
        "outputId": "11b7577e-0c0c-4dcb-9cd2-60f7c7aacc05"
      },
      "source": [
        "#Comparation\n",
        "plt.plot([0, 1], [0, 1], linestyle='--', lw=2, color='blue',\n",
        "         label='Random guess', alpha=.8)\n",
        "\n",
        "mean_tpr_nb = np.mean(tprs_nb, axis=0)\n",
        "mean_tpr_nb[-1] = 1.0\n",
        "mean_tpr_lgs = np.mean(tprs_lgs, axis=0)\n",
        "mean_tpr_lgs[-1] = 1.0\n",
        "\n",
        "mean_auc_nb = auc(mean_fpr_nb, mean_tpr_nb)\n",
        "std_auc_nb = np.std(aucs_nb)\n",
        "mean_auc_lgs = auc(mean_fpr_lgs, mean_tpr_lgs)\n",
        "std_auc_lgs = np.std(aucs_lgs)\n",
        "\n",
        "plt.plot(mean_fpr_nb, mean_tpr_nb, color='darkorange', lw=2, alpha=.8,\n",
        "         label=f\"Naive Bayes (AUC = {mean_auc_nb:0.2f} $\\pm$ {std_auc_nb:0.2f})\")\n",
        "plt.plot(mean_fpr_lgs, mean_tpr_lgs, color='red', lw=2, alpha=.8,\n",
        "         label=f\"Logistic regression(AUC = {mean_auc_lgs:0.2f} $\\pm$ {std_auc_lgs:0.2f})\")\n",
        "\n",
        "plt.xlabel('False Positive Rate')\n",
        "plt.ylabel('True Positive Rate')\n",
        "plt.legend(loc='lower right')\n",
        "plt.title('Comparison of NB and Logistic')\n",
        "plt.show()"
      ],
      "execution_count": null,
      "outputs": [
        {
          "output_type": "display_data",
          "data": {
            "image/png": "[encoded data removed]",
            "text/plain": [
              "<Figure size 432x288 with 1 Axes>"
            ]
          },
          "metadata": {
            "tags": []
          }
        }
      ]
    },
    {
      "cell_type": "markdown",
      "metadata": {
        "id": "_Dr8ff6kccxf"
      },
      "source": [
        "## Conclusions \n",
        "\n",
        "In this case, we learned about a few new classification models and the advantages and disadvantages they have versus the standard logistic model. We learned that the Naive Bayes classifier, although \"naive\", generally does not suffer much and in fact is the fastest to train. Furthermore, the implementation of Naive Bayes is quite math-heavy and relies on a simplifying assumption of independence. This makes Naive Bayes bad when covariates are obviously dependent.\n",
        "Note: For the Naive Bayes classifier can assume distributions other than the normal distribution a get better results."
      ]
    },
    {
      "cell_type": "markdown",
      "metadata": {
        "id": "f1CXsTiye-UH"
      },
      "source": [
        "#References"
      ]
    },
    {
      "cell_type": "markdown",
      "metadata": {
        "id": "keb5YipJi3Nc"
      },
      "source": [
        "[1] Pankaj Mehta, Ching-Hao Wang, Alexandre G. R. Day, and Clint Richardson, A high-bias, low-variance introduction to Machine Learning for physicists. 27 May 2019. https://arxiv.org/pdf/1803.08823.pdf\n",
        "\n",
        "[2] Liliana Blanco, Probabilidad. Universidad Nacional de Colombia. Facultad de Ciencias 2004.\n",
        "\n",
        "[3] DS4A Correlation 3.0, Course materials, 2020."
      ]
    },
    {
      "cell_type": "code",
      "metadata": {
        "id": "RCnkuwSGaex1"
      },
      "source": [
        ""
      ],
      "execution_count": null,
      "outputs": []
    },
    {
      "cell_type": "code",
      "metadata": {
        "id": "TX7GoNGDe9-G"
      },
      "source": [
        ""
      ],
      "execution_count": null,
      "outputs": []
    }
  ]
}